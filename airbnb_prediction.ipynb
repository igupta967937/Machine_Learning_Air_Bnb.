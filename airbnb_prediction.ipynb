{
  "nbformat": 4,
  "nbformat_minor": 0,
  "metadata": {
    "kernelspec": {
      "display_name": "Python 3",
      "language": "python",
      "name": "python3"
    },
    "language_info": {
      "codemirror_mode": {
        "name": "ipython",
        "version": 3
      },
      "file_extension": ".py",
      "mimetype": "text/x-python",
      "name": "python",
      "nbconvert_exporter": "python",
      "pygments_lexer": "ipython3",
      "version": "3.4.3"
    },
    "colab": {
      "name": "airbnb_prediction.ipynb",
      "provenance": [],
      "toc_visible": true
    }
  },
  "cells": [
    {
      "cell_type": "markdown",
      "metadata": {
        "id": "L1dN9xAsqW-b"
      },
      "source": [
        "# Analysis of AirBnb data\n",
        "* I used the data from [InsideAirbnb](http://insideairbnb.com/paris/#) to provide the data here - we picked Paris as a good example.\n",
        "* The aim is to produce a few models of this phenomenoa."
      ]
    },
    {
      "cell_type": "code",
      "metadata": {
        "id": "5qhOioQjqW-e"
      },
      "source": [
        "%matplotlib inline\n",
        "import pandas as pd\n",
        "import seaborn as sns\n",
        "import matplotlib.pyplot as plt\n",
        "import numpy as np\n",
        "import itertools\n",
        "import scipy as sp\n",
        "import pymc3 as pm3\n",
        "from scipy import stats\n",
        "from IPython.core.pylabtools import figsize\n",
        "import os\n",
        "figsize(12, 12)\n",
        "sns.set_style('darkgrid')"
      ],
      "execution_count": 12,
      "outputs": []
    },
    {
      "cell_type": "code",
      "metadata": {
        "id": "uABPIgqMqW-f"
      },
      "source": [
        "\n",
        "def p2f(x):\n",
        "    return float(x.strip('%'))/100"
      ],
      "execution_count": 13,
      "outputs": []
    },
    {
      "cell_type": "code",
      "metadata": {
        "colab": {
          "base_uri": "https://localhost:8080/"
        },
        "id": "GCxA3oO4qrTs",
        "outputId": "4afdd87a-0c6a-4783-9842-ad20a823ab44"
      },
      "source": [
        "\r\n",
        "import numpy as np\r\n",
        "import pandas as pd\r\n",
        "import matplotlib.pyplot as plt\r\n",
        "import statsmodels.api as sm\r\n",
        "import gzip\r\n",
        "import shutil\r\n",
        "import matplotlib.font_manager as font_manager\r\n",
        "\r\n",
        "\"\"\"Unzip the gz file\"\"\"\r\n",
        "\r\n",
        "with gzip.open('listings.csv.gz', 'rb') as f_in:\r\n",
        "    with open('listings.csv', 'wb') as f_out:\r\n",
        "        shutil.copyfileobj(f_in, f_out)\r\n",
        "\r\n",
        "\"\"\"Reading CSV file. Th etotal number of rows in listing is 44666\"\"\"\r\n",
        "\r\n",
        "pd.set_option('precision', 4)\r\n",
        "df_listing = pd.read_csv('listings.csv')\r\n",
        "\r\n",
        "df_listing.shape"
      ],
      "execution_count": 55,
      "outputs": [
        {
          "output_type": "execute_result",
          "data": {
            "text/plain": [
              "(44666, 74)"
            ]
          },
          "metadata": {
            "tags": []
          },
          "execution_count": 55
        }
      ]
    },
    {
      "cell_type": "code",
      "metadata": {
        "id": "5yd0KNbOwkLi",
        "outputId": "c96d9575-7f54-4383-a119-92194f26178a",
        "colab": {
          "base_uri": "https://localhost:8080/"
        }
      },
      "source": [
        "\"\"\"Remove unwanted chracters from price. Convert price to float. Select properties with price more than 0\"\"\"\r\n",
        "\r\n",
        "df_listing['price'] = df_listing['price'].str.replace('$', '')\r\n",
        "df_listing['price'] = df_listing['price'].str.replace(',', '')\r\n",
        "df_listing[\"price\"] = pd.to_numeric(df_listing[\"price\"], downcast=\"float\")\r\n",
        "df_listing = df_listing[df_listing.price > 0]\r\n",
        "\r\n",
        "df_listing.isnull().sum().sort_values(ascending=False)"
      ],
      "execution_count": 56,
      "outputs": [
        {
          "output_type": "execute_result",
          "data": {
            "text/plain": [
              "bathrooms                       44641\n",
              "license                         44641\n",
              "calendar_updated                44641\n",
              "host_response_time              23068\n",
              "host_response_rate              23068\n",
              "                                ...  \n",
              "property_type                       0\n",
              "longitude                           0\n",
              "latitude                            0\n",
              "neighbourhood_group_cleansed        0\n",
              "id                                  0\n",
              "Length: 74, dtype: int64"
            ]
          },
          "metadata": {
            "tags": []
          },
          "execution_count": 56
        }
      ]
    },
    {
      "cell_type": "code",
      "metadata": {
        "colab": {
          "base_uri": "https://localhost:8080/"
        },
        "id": "82Umbp-mrb6N",
        "outputId": "0b3b1215-9e3a-4159-c24e-f65058479588"
      },
      "source": [
        "df_listing.columns"
      ],
      "execution_count": 57,
      "outputs": [
        {
          "output_type": "execute_result",
          "data": {
            "text/plain": [
              "Index(['id', 'listing_url', 'scrape_id', 'last_scraped', 'name', 'description',\n",
              "       'neighborhood_overview', 'picture_url', 'host_id', 'host_url',\n",
              "       'host_name', 'host_since', 'host_location', 'host_about',\n",
              "       'host_response_time', 'host_response_rate', 'host_acceptance_rate',\n",
              "       'host_is_superhost', 'host_thumbnail_url', 'host_picture_url',\n",
              "       'host_neighbourhood', 'host_listings_count',\n",
              "       'host_total_listings_count', 'host_verifications',\n",
              "       'host_has_profile_pic', 'host_identity_verified', 'neighbourhood',\n",
              "       'neighbourhood_cleansed', 'neighbourhood_group_cleansed', 'latitude',\n",
              "       'longitude', 'property_type', 'room_type', 'accommodates', 'bathrooms',\n",
              "       'bathrooms_text', 'bedrooms', 'beds', 'amenities', 'price',\n",
              "       'minimum_nights', 'maximum_nights', 'minimum_minimum_nights',\n",
              "       'maximum_minimum_nights', 'minimum_maximum_nights',\n",
              "       'maximum_maximum_nights', 'minimum_nights_avg_ntm',\n",
              "       'maximum_nights_avg_ntm', 'calendar_updated', 'has_availability',\n",
              "       'availability_30', 'availability_60', 'availability_90',\n",
              "       'availability_365', 'calendar_last_scraped', 'number_of_reviews',\n",
              "       'number_of_reviews_ltm', 'number_of_reviews_l30d', 'first_review',\n",
              "       'last_review', 'review_scores_rating', 'review_scores_accuracy',\n",
              "       'review_scores_cleanliness', 'review_scores_checkin',\n",
              "       'review_scores_communication', 'review_scores_location',\n",
              "       'review_scores_value', 'license', 'instant_bookable',\n",
              "       'calculated_host_listings_count',\n",
              "       'calculated_host_listings_count_entire_homes',\n",
              "       'calculated_host_listings_count_private_rooms',\n",
              "       'calculated_host_listings_count_shared_rooms', 'reviews_per_month'],\n",
              "      dtype='object')"
            ]
          },
          "metadata": {
            "tags": []
          },
          "execution_count": 57
        }
      ]
    },
    {
      "cell_type": "code",
      "metadata": {
        "collapsed": true,
        "id": "a47306cYqW-h"
      },
      "source": [
        "df_to_model = df_listing[['reviews_per_month', 'number_of_reviews', 'host_response_rate', 'instant_bookable', 'review_scores_communication', 'price']]"
      ],
      "execution_count": 58,
      "outputs": []
    },
    {
      "cell_type": "code",
      "metadata": {
        "colab": {
          "base_uri": "https://localhost:8080/",
          "height": 427
        },
        "id": "ocNQ6Hi8qW-i",
        "outputId": "357a3ba8-efd7-4826-fcdf-fef5cc0ef562"
      },
      "source": [
        "df_to_model"
      ],
      "execution_count": 59,
      "outputs": [
        {
          "output_type": "execute_result",
          "data": {
            "text/html": [
              "<div>\n",
              "<style scoped>\n",
              "    .dataframe tbody tr th:only-of-type {\n",
              "        vertical-align: middle;\n",
              "    }\n",
              "\n",
              "    .dataframe tbody tr th {\n",
              "        vertical-align: top;\n",
              "    }\n",
              "\n",
              "    .dataframe thead th {\n",
              "        text-align: right;\n",
              "    }\n",
              "</style>\n",
              "<table border=\"1\" class=\"dataframe\">\n",
              "  <thead>\n",
              "    <tr style=\"text-align: right;\">\n",
              "      <th></th>\n",
              "      <th>reviews_per_month</th>\n",
              "      <th>number_of_reviews</th>\n",
              "      <th>host_response_rate</th>\n",
              "      <th>instant_bookable</th>\n",
              "      <th>review_scores_communication</th>\n",
              "      <th>price</th>\n",
              "    </tr>\n",
              "  </thead>\n",
              "  <tbody>\n",
              "    <tr>\n",
              "      <th>0</th>\n",
              "      <td>0.36</td>\n",
              "      <td>48</td>\n",
              "      <td>70%</td>\n",
              "      <td>f</td>\n",
              "      <td>10.0</td>\n",
              "      <td>175.0</td>\n",
              "    </tr>\n",
              "    <tr>\n",
              "      <th>1</th>\n",
              "      <td>4.82</td>\n",
              "      <td>354</td>\n",
              "      <td>98%</td>\n",
              "      <td>f</td>\n",
              "      <td>9.0</td>\n",
              "      <td>76.0</td>\n",
              "    </tr>\n",
              "    <tr>\n",
              "      <th>2</th>\n",
              "      <td>0.36</td>\n",
              "      <td>50</td>\n",
              "      <td>NaN</td>\n",
              "      <td>f</td>\n",
              "      <td>10.0</td>\n",
              "      <td>60.0</td>\n",
              "    </tr>\n",
              "    <tr>\n",
              "      <th>3</th>\n",
              "      <td>0.01</td>\n",
              "      <td>1</td>\n",
              "      <td>100%</td>\n",
              "      <td>f</td>\n",
              "      <td>10.0</td>\n",
              "      <td>175.0</td>\n",
              "    </tr>\n",
              "    <tr>\n",
              "      <th>4</th>\n",
              "      <td>3.40</td>\n",
              "      <td>473</td>\n",
              "      <td>100%</td>\n",
              "      <td>f</td>\n",
              "      <td>9.0</td>\n",
              "      <td>73.0</td>\n",
              "    </tr>\n",
              "    <tr>\n",
              "      <th>...</th>\n",
              "      <td>...</td>\n",
              "      <td>...</td>\n",
              "      <td>...</td>\n",
              "      <td>...</td>\n",
              "      <td>...</td>\n",
              "      <td>...</td>\n",
              "    </tr>\n",
              "    <tr>\n",
              "      <th>44661</th>\n",
              "      <td>NaN</td>\n",
              "      <td>0</td>\n",
              "      <td>100%</td>\n",
              "      <td>f</td>\n",
              "      <td>NaN</td>\n",
              "      <td>50.0</td>\n",
              "    </tr>\n",
              "    <tr>\n",
              "      <th>44662</th>\n",
              "      <td>NaN</td>\n",
              "      <td>0</td>\n",
              "      <td>100%</td>\n",
              "      <td>f</td>\n",
              "      <td>NaN</td>\n",
              "      <td>200.0</td>\n",
              "    </tr>\n",
              "    <tr>\n",
              "      <th>44663</th>\n",
              "      <td>NaN</td>\n",
              "      <td>0</td>\n",
              "      <td>100%</td>\n",
              "      <td>f</td>\n",
              "      <td>NaN</td>\n",
              "      <td>92.0</td>\n",
              "    </tr>\n",
              "    <tr>\n",
              "      <th>44664</th>\n",
              "      <td>NaN</td>\n",
              "      <td>0</td>\n",
              "      <td>100%</td>\n",
              "      <td>f</td>\n",
              "      <td>NaN</td>\n",
              "      <td>120.0</td>\n",
              "    </tr>\n",
              "    <tr>\n",
              "      <th>44665</th>\n",
              "      <td>NaN</td>\n",
              "      <td>0</td>\n",
              "      <td>100%</td>\n",
              "      <td>f</td>\n",
              "      <td>NaN</td>\n",
              "      <td>54.0</td>\n",
              "    </tr>\n",
              "  </tbody>\n",
              "</table>\n",
              "<p>44641 rows × 6 columns</p>\n",
              "</div>"
            ],
            "text/plain": [
              "       reviews_per_month  number_of_reviews  ... review_scores_communication  price\n",
              "0                   0.36                 48  ...                        10.0  175.0\n",
              "1                   4.82                354  ...                         9.0   76.0\n",
              "2                   0.36                 50  ...                        10.0   60.0\n",
              "3                   0.01                  1  ...                        10.0  175.0\n",
              "4                   3.40                473  ...                         9.0   73.0\n",
              "...                  ...                ...  ...                         ...    ...\n",
              "44661                NaN                  0  ...                         NaN   50.0\n",
              "44662                NaN                  0  ...                         NaN  200.0\n",
              "44663                NaN                  0  ...                         NaN   92.0\n",
              "44664                NaN                  0  ...                         NaN  120.0\n",
              "44665                NaN                  0  ...                         NaN   54.0\n",
              "\n",
              "[44641 rows x 6 columns]"
            ]
          },
          "metadata": {
            "tags": []
          },
          "execution_count": 59
        }
      ]
    },
    {
      "cell_type": "code",
      "metadata": {
        "colab": {
          "base_uri": "https://localhost:8080/"
        },
        "id": "yB7a_-lVqW-j",
        "outputId": "3c0057b4-f933-47b3-9a4e-77429ff26c40"
      },
      "source": [
        "df_to_model['reviews_per_month'] = df_to_model['reviews_per_month'].fillna(0)\n",
        "df_to_model['host_response_rate'] = df_to_model['host_response_rate'].fillna(0)\n",
        "df_to_model['review_scores_communication'] = df_to_model['review_scores_communication'].fillna(0)\n",
        "df_to_model['instant_bookable'] = df_to_model['instant_bookable'].astype('category')\n",
        "df_to_model['reviews_per_month'] = df_to_model['reviews_per_month'].astype('int32')"
      ],
      "execution_count": 60,
      "outputs": [
        {
          "output_type": "stream",
          "text": [
            "/usr/local/lib/python3.6/dist-packages/ipykernel_launcher.py:1: SettingWithCopyWarning: \n",
            "A value is trying to be set on a copy of a slice from a DataFrame.\n",
            "Try using .loc[row_indexer,col_indexer] = value instead\n",
            "\n",
            "See the caveats in the documentation: https://pandas.pydata.org/pandas-docs/stable/user_guide/indexing.html#returning-a-view-versus-a-copy\n",
            "  \"\"\"Entry point for launching an IPython kernel.\n",
            "/usr/local/lib/python3.6/dist-packages/ipykernel_launcher.py:2: SettingWithCopyWarning: \n",
            "A value is trying to be set on a copy of a slice from a DataFrame.\n",
            "Try using .loc[row_indexer,col_indexer] = value instead\n",
            "\n",
            "See the caveats in the documentation: https://pandas.pydata.org/pandas-docs/stable/user_guide/indexing.html#returning-a-view-versus-a-copy\n",
            "  \n",
            "/usr/local/lib/python3.6/dist-packages/ipykernel_launcher.py:3: SettingWithCopyWarning: \n",
            "A value is trying to be set on a copy of a slice from a DataFrame.\n",
            "Try using .loc[row_indexer,col_indexer] = value instead\n",
            "\n",
            "See the caveats in the documentation: https://pandas.pydata.org/pandas-docs/stable/user_guide/indexing.html#returning-a-view-versus-a-copy\n",
            "  This is separate from the ipykernel package so we can avoid doing imports until\n",
            "/usr/local/lib/python3.6/dist-packages/ipykernel_launcher.py:4: SettingWithCopyWarning: \n",
            "A value is trying to be set on a copy of a slice from a DataFrame.\n",
            "Try using .loc[row_indexer,col_indexer] = value instead\n",
            "\n",
            "See the caveats in the documentation: https://pandas.pydata.org/pandas-docs/stable/user_guide/indexing.html#returning-a-view-versus-a-copy\n",
            "  after removing the cwd from sys.path.\n",
            "/usr/local/lib/python3.6/dist-packages/ipykernel_launcher.py:5: SettingWithCopyWarning: \n",
            "A value is trying to be set on a copy of a slice from a DataFrame.\n",
            "Try using .loc[row_indexer,col_indexer] = value instead\n",
            "\n",
            "See the caveats in the documentation: https://pandas.pydata.org/pandas-docs/stable/user_guide/indexing.html#returning-a-view-versus-a-copy\n",
            "  \"\"\"\n"
          ],
          "name": "stderr"
        }
      ]
    },
    {
      "cell_type": "code",
      "metadata": {
        "colab": {
          "base_uri": "https://localhost:8080/"
        },
        "id": "CyfrbE4YqW-k",
        "outputId": "6c6e1af2-c052-41df-ccd7-d551c513ba8c"
      },
      "source": [
        "df_to_model['host_response_rate'] = df_to_model['host_response_rate'].astype('str')\n",
        "df_to_model['host_response_rate'] = df_to_model['host_response_rate'].apply(p2f)"
      ],
      "execution_count": 61,
      "outputs": [
        {
          "output_type": "stream",
          "text": [
            "/usr/local/lib/python3.6/dist-packages/ipykernel_launcher.py:1: SettingWithCopyWarning: \n",
            "A value is trying to be set on a copy of a slice from a DataFrame.\n",
            "Try using .loc[row_indexer,col_indexer] = value instead\n",
            "\n",
            "See the caveats in the documentation: https://pandas.pydata.org/pandas-docs/stable/user_guide/indexing.html#returning-a-view-versus-a-copy\n",
            "  \"\"\"Entry point for launching an IPython kernel.\n",
            "/usr/local/lib/python3.6/dist-packages/ipykernel_launcher.py:2: SettingWithCopyWarning: \n",
            "A value is trying to be set on a copy of a slice from a DataFrame.\n",
            "Try using .loc[row_indexer,col_indexer] = value instead\n",
            "\n",
            "See the caveats in the documentation: https://pandas.pydata.org/pandas-docs/stable/user_guide/indexing.html#returning-a-view-versus-a-copy\n",
            "  \n"
          ],
          "name": "stderr"
        }
      ]
    },
    {
      "cell_type": "code",
      "metadata": {
        "colab": {
          "base_uri": "https://localhost:8080/",
          "height": 427
        },
        "id": "vR59Bq6vqW-k",
        "outputId": "7492c563-abcf-4518-e0fc-66cdc3b9ecbb"
      },
      "source": [
        "df_to_model"
      ],
      "execution_count": 62,
      "outputs": [
        {
          "output_type": "execute_result",
          "data": {
            "text/html": [
              "<div>\n",
              "<style scoped>\n",
              "    .dataframe tbody tr th:only-of-type {\n",
              "        vertical-align: middle;\n",
              "    }\n",
              "\n",
              "    .dataframe tbody tr th {\n",
              "        vertical-align: top;\n",
              "    }\n",
              "\n",
              "    .dataframe thead th {\n",
              "        text-align: right;\n",
              "    }\n",
              "</style>\n",
              "<table border=\"1\" class=\"dataframe\">\n",
              "  <thead>\n",
              "    <tr style=\"text-align: right;\">\n",
              "      <th></th>\n",
              "      <th>reviews_per_month</th>\n",
              "      <th>number_of_reviews</th>\n",
              "      <th>host_response_rate</th>\n",
              "      <th>instant_bookable</th>\n",
              "      <th>review_scores_communication</th>\n",
              "      <th>price</th>\n",
              "    </tr>\n",
              "  </thead>\n",
              "  <tbody>\n",
              "    <tr>\n",
              "      <th>0</th>\n",
              "      <td>0</td>\n",
              "      <td>48</td>\n",
              "      <td>0.70</td>\n",
              "      <td>f</td>\n",
              "      <td>10.0</td>\n",
              "      <td>175.0</td>\n",
              "    </tr>\n",
              "    <tr>\n",
              "      <th>1</th>\n",
              "      <td>4</td>\n",
              "      <td>354</td>\n",
              "      <td>0.98</td>\n",
              "      <td>f</td>\n",
              "      <td>9.0</td>\n",
              "      <td>76.0</td>\n",
              "    </tr>\n",
              "    <tr>\n",
              "      <th>2</th>\n",
              "      <td>0</td>\n",
              "      <td>50</td>\n",
              "      <td>0.00</td>\n",
              "      <td>f</td>\n",
              "      <td>10.0</td>\n",
              "      <td>60.0</td>\n",
              "    </tr>\n",
              "    <tr>\n",
              "      <th>3</th>\n",
              "      <td>0</td>\n",
              "      <td>1</td>\n",
              "      <td>1.00</td>\n",
              "      <td>f</td>\n",
              "      <td>10.0</td>\n",
              "      <td>175.0</td>\n",
              "    </tr>\n",
              "    <tr>\n",
              "      <th>4</th>\n",
              "      <td>3</td>\n",
              "      <td>473</td>\n",
              "      <td>1.00</td>\n",
              "      <td>f</td>\n",
              "      <td>9.0</td>\n",
              "      <td>73.0</td>\n",
              "    </tr>\n",
              "    <tr>\n",
              "      <th>...</th>\n",
              "      <td>...</td>\n",
              "      <td>...</td>\n",
              "      <td>...</td>\n",
              "      <td>...</td>\n",
              "      <td>...</td>\n",
              "      <td>...</td>\n",
              "    </tr>\n",
              "    <tr>\n",
              "      <th>44661</th>\n",
              "      <td>0</td>\n",
              "      <td>0</td>\n",
              "      <td>1.00</td>\n",
              "      <td>f</td>\n",
              "      <td>0.0</td>\n",
              "      <td>50.0</td>\n",
              "    </tr>\n",
              "    <tr>\n",
              "      <th>44662</th>\n",
              "      <td>0</td>\n",
              "      <td>0</td>\n",
              "      <td>1.00</td>\n",
              "      <td>f</td>\n",
              "      <td>0.0</td>\n",
              "      <td>200.0</td>\n",
              "    </tr>\n",
              "    <tr>\n",
              "      <th>44663</th>\n",
              "      <td>0</td>\n",
              "      <td>0</td>\n",
              "      <td>1.00</td>\n",
              "      <td>f</td>\n",
              "      <td>0.0</td>\n",
              "      <td>92.0</td>\n",
              "    </tr>\n",
              "    <tr>\n",
              "      <th>44664</th>\n",
              "      <td>0</td>\n",
              "      <td>0</td>\n",
              "      <td>1.00</td>\n",
              "      <td>f</td>\n",
              "      <td>0.0</td>\n",
              "      <td>120.0</td>\n",
              "    </tr>\n",
              "    <tr>\n",
              "      <th>44665</th>\n",
              "      <td>0</td>\n",
              "      <td>0</td>\n",
              "      <td>1.00</td>\n",
              "      <td>f</td>\n",
              "      <td>0.0</td>\n",
              "      <td>54.0</td>\n",
              "    </tr>\n",
              "  </tbody>\n",
              "</table>\n",
              "<p>44641 rows × 6 columns</p>\n",
              "</div>"
            ],
            "text/plain": [
              "       reviews_per_month  number_of_reviews  ...  review_scores_communication  price\n",
              "0                      0                 48  ...                         10.0  175.0\n",
              "1                      4                354  ...                          9.0   76.0\n",
              "2                      0                 50  ...                         10.0   60.0\n",
              "3                      0                  1  ...                         10.0  175.0\n",
              "4                      3                473  ...                          9.0   73.0\n",
              "...                  ...                ...  ...                          ...    ...\n",
              "44661                  0                  0  ...                          0.0   50.0\n",
              "44662                  0                  0  ...                          0.0  200.0\n",
              "44663                  0                  0  ...                          0.0   92.0\n",
              "44664                  0                  0  ...                          0.0  120.0\n",
              "44665                  0                  0  ...                          0.0   54.0\n",
              "\n",
              "[44641 rows x 6 columns]"
            ]
          },
          "metadata": {
            "tags": []
          },
          "execution_count": 62
        }
      ]
    },
    {
      "cell_type": "code",
      "metadata": {
        "colab": {
          "base_uri": "https://localhost:8080/",
          "height": 427
        },
        "id": "UE-xcxZxqW-l",
        "outputId": "701c6fc3-7392-47df-cdcc-db8a8f36a003"
      },
      "source": [
        "y = df_listing['price'].values\n",
        "df_to_model"
      ],
      "execution_count": 63,
      "outputs": [
        {
          "output_type": "execute_result",
          "data": {
            "text/html": [
              "<div>\n",
              "<style scoped>\n",
              "    .dataframe tbody tr th:only-of-type {\n",
              "        vertical-align: middle;\n",
              "    }\n",
              "\n",
              "    .dataframe tbody tr th {\n",
              "        vertical-align: top;\n",
              "    }\n",
              "\n",
              "    .dataframe thead th {\n",
              "        text-align: right;\n",
              "    }\n",
              "</style>\n",
              "<table border=\"1\" class=\"dataframe\">\n",
              "  <thead>\n",
              "    <tr style=\"text-align: right;\">\n",
              "      <th></th>\n",
              "      <th>reviews_per_month</th>\n",
              "      <th>number_of_reviews</th>\n",
              "      <th>host_response_rate</th>\n",
              "      <th>instant_bookable</th>\n",
              "      <th>review_scores_communication</th>\n",
              "      <th>price</th>\n",
              "    </tr>\n",
              "  </thead>\n",
              "  <tbody>\n",
              "    <tr>\n",
              "      <th>0</th>\n",
              "      <td>0</td>\n",
              "      <td>48</td>\n",
              "      <td>0.70</td>\n",
              "      <td>f</td>\n",
              "      <td>10.0</td>\n",
              "      <td>175.0</td>\n",
              "    </tr>\n",
              "    <tr>\n",
              "      <th>1</th>\n",
              "      <td>4</td>\n",
              "      <td>354</td>\n",
              "      <td>0.98</td>\n",
              "      <td>f</td>\n",
              "      <td>9.0</td>\n",
              "      <td>76.0</td>\n",
              "    </tr>\n",
              "    <tr>\n",
              "      <th>2</th>\n",
              "      <td>0</td>\n",
              "      <td>50</td>\n",
              "      <td>0.00</td>\n",
              "      <td>f</td>\n",
              "      <td>10.0</td>\n",
              "      <td>60.0</td>\n",
              "    </tr>\n",
              "    <tr>\n",
              "      <th>3</th>\n",
              "      <td>0</td>\n",
              "      <td>1</td>\n",
              "      <td>1.00</td>\n",
              "      <td>f</td>\n",
              "      <td>10.0</td>\n",
              "      <td>175.0</td>\n",
              "    </tr>\n",
              "    <tr>\n",
              "      <th>4</th>\n",
              "      <td>3</td>\n",
              "      <td>473</td>\n",
              "      <td>1.00</td>\n",
              "      <td>f</td>\n",
              "      <td>9.0</td>\n",
              "      <td>73.0</td>\n",
              "    </tr>\n",
              "    <tr>\n",
              "      <th>...</th>\n",
              "      <td>...</td>\n",
              "      <td>...</td>\n",
              "      <td>...</td>\n",
              "      <td>...</td>\n",
              "      <td>...</td>\n",
              "      <td>...</td>\n",
              "    </tr>\n",
              "    <tr>\n",
              "      <th>44661</th>\n",
              "      <td>0</td>\n",
              "      <td>0</td>\n",
              "      <td>1.00</td>\n",
              "      <td>f</td>\n",
              "      <td>0.0</td>\n",
              "      <td>50.0</td>\n",
              "    </tr>\n",
              "    <tr>\n",
              "      <th>44662</th>\n",
              "      <td>0</td>\n",
              "      <td>0</td>\n",
              "      <td>1.00</td>\n",
              "      <td>f</td>\n",
              "      <td>0.0</td>\n",
              "      <td>200.0</td>\n",
              "    </tr>\n",
              "    <tr>\n",
              "      <th>44663</th>\n",
              "      <td>0</td>\n",
              "      <td>0</td>\n",
              "      <td>1.00</td>\n",
              "      <td>f</td>\n",
              "      <td>0.0</td>\n",
              "      <td>92.0</td>\n",
              "    </tr>\n",
              "    <tr>\n",
              "      <th>44664</th>\n",
              "      <td>0</td>\n",
              "      <td>0</td>\n",
              "      <td>1.00</td>\n",
              "      <td>f</td>\n",
              "      <td>0.0</td>\n",
              "      <td>120.0</td>\n",
              "    </tr>\n",
              "    <tr>\n",
              "      <th>44665</th>\n",
              "      <td>0</td>\n",
              "      <td>0</td>\n",
              "      <td>1.00</td>\n",
              "      <td>f</td>\n",
              "      <td>0.0</td>\n",
              "      <td>54.0</td>\n",
              "    </tr>\n",
              "  </tbody>\n",
              "</table>\n",
              "<p>44641 rows × 6 columns</p>\n",
              "</div>"
            ],
            "text/plain": [
              "       reviews_per_month  number_of_reviews  ...  review_scores_communication  price\n",
              "0                      0                 48  ...                         10.0  175.0\n",
              "1                      4                354  ...                          9.0   76.0\n",
              "2                      0                 50  ...                         10.0   60.0\n",
              "3                      0                  1  ...                         10.0  175.0\n",
              "4                      3                473  ...                          9.0   73.0\n",
              "...                  ...                ...  ...                          ...    ...\n",
              "44661                  0                  0  ...                          0.0   50.0\n",
              "44662                  0                  0  ...                          0.0  200.0\n",
              "44663                  0                  0  ...                          0.0   92.0\n",
              "44664                  0                  0  ...                          0.0  120.0\n",
              "44665                  0                  0  ...                          0.0   54.0\n",
              "\n",
              "[44641 rows x 6 columns]"
            ]
          },
          "metadata": {
            "tags": []
          },
          "execution_count": 63
        }
      ]
    },
    {
      "cell_type": "code",
      "metadata": {
        "id": "PV5Utb6rqW-l"
      },
      "source": [
        "df_to_model = pd.get_dummies(df_to_model)"
      ],
      "execution_count": 64,
      "outputs": []
    },
    {
      "cell_type": "code",
      "metadata": {
        "id": "Yq0J3mWqqW-l"
      },
      "source": [
        "X = df_to_model.values"
      ],
      "execution_count": 65,
      "outputs": []
    },
    {
      "cell_type": "markdown",
      "metadata": {
        "id": "KICHvsEVqW-l"
      },
      "source": [
        "* Let us look at one of the columns. \n",
        "* We see below that we have a very large variety of numbers, let us apply next a preprocessing step. "
      ]
    },
    {
      "cell_type": "code",
      "metadata": {
        "colab": {
          "base_uri": "https://localhost:8080/"
        },
        "id": "PT-TeL7jqW-m",
        "outputId": "7bd20fed-f4f0-4d88-f455-88892db53759"
      },
      "source": [
        "X[:,1]"
      ],
      "execution_count": 66,
      "outputs": [
        {
          "output_type": "execute_result",
          "data": {
            "text/plain": [
              "array([ 48., 354.,  50., ...,   0.,   0.,   0.])"
            ]
          },
          "metadata": {
            "tags": []
          },
          "execution_count": 66
        }
      ]
    },
    {
      "cell_type": "code",
      "metadata": {
        "id": "i6bN_Aa6qW-m"
      },
      "source": [
        "from sklearn import preprocessing\n",
        "X[:,1] = preprocessing.scale(X[:,1])\n"
      ],
      "execution_count": 67,
      "outputs": []
    },
    {
      "cell_type": "code",
      "metadata": {
        "colab": {
          "base_uri": "https://localhost:8080/"
        },
        "id": "gTAbnNmaqW-m",
        "outputId": "b7dc2082-443a-4084-fd17-1eb7f7010906"
      },
      "source": [
        "X"
      ],
      "execution_count": 21,
      "outputs": [
        {
          "output_type": "execute_result",
          "data": {
            "text/plain": [
              "array([[ 0.        ,  0.54738112,  0.7       , 10.        ,  1.        ,\n",
              "         0.        ],\n",
              "       [ 4.        ,  7.10489471,  0.98      ,  9.        ,  1.        ,\n",
              "         0.        ],\n",
              "       [ 0.        ,  0.59024069,  0.        , 10.        ,  1.        ,\n",
              "         0.        ],\n",
              "       ...,\n",
              "       [ 0.        , -0.48124846,  1.        ,  0.        ,  1.        ,\n",
              "         0.        ],\n",
              "       [ 0.        , -0.48124846,  1.        ,  0.        ,  1.        ,\n",
              "         0.        ],\n",
              "       [ 0.        , -0.48124846,  1.        ,  0.        ,  1.        ,\n",
              "         0.        ]])"
            ]
          },
          "metadata": {
            "tags": []
          },
          "execution_count": 21
        }
      ]
    },
    {
      "cell_type": "code",
      "metadata": {
        "collapsed": true,
        "id": "YEnZgLAQqW-n"
      },
      "source": [
        "from sklearn.model_selection import train_test_split\n",
        "X_train, X_test, y_train, y_test = train_test_split(X, y, test_size=0.2, random_state=42)"
      ],
      "execution_count": 68,
      "outputs": []
    },
    {
      "cell_type": "code",
      "metadata": {
        "id": "bQP6Nf6oqW-n"
      },
      "source": [
        "names = df_to_model.columns.tolist()"
      ],
      "execution_count": 69,
      "outputs": []
    },
    {
      "cell_type": "code",
      "metadata": {
        "id": "SFM7sA_vqW-n",
        "outputId": "1accc77c-fc1f-41e2-c4d5-33a0cf6458e0"
      },
      "source": [
        "X_train"
      ],
      "execution_count": null,
      "outputs": [
        {
          "output_type": "execute_result",
          "data": {
            "text/plain": [
              "array([[ 0.        , -0.47794405,  0.3       , ...,  0.        ,\n",
              "         0.        ,  0.        ],\n",
              "       [ 0.        , -0.43362274,  1.        , ...,  1.        ,\n",
              "         0.        ,  0.        ],\n",
              "       [ 0.        , -0.52226535,  1.        , ...,  0.        ,\n",
              "         0.        ,  0.        ],\n",
              "       ..., \n",
              "       [ 0.        , -0.47794405,  0.1       , ...,  0.        ,\n",
              "         0.        ,  0.        ],\n",
              "       [ 0.        , -0.43362274,  1.        , ...,  0.        ,\n",
              "         0.        ,  0.        ],\n",
              "       [ 3.        ,  0.36416083,  0.97      , ...,  0.        ,\n",
              "         0.        ,  0.        ]])"
            ]
          },
          "metadata": {
            "tags": []
          },
          "execution_count": 153
        }
      ]
    },
    {
      "cell_type": "code",
      "metadata": {
        "id": "CePG43HKqW-o"
      },
      "source": [
        "features = df_to_model.columns\n",
        "features = np.asarray(features)"
      ],
      "execution_count": 70,
      "outputs": []
    },
    {
      "cell_type": "code",
      "metadata": {
        "colab": {
          "base_uri": "https://localhost:8080/",
          "height": 535
        },
        "id": "V6HpqaD9qW-o",
        "outputId": "0684baff-550f-44ea-a825-529125559db2"
      },
      "source": [
        "import numpy as np\n",
        "import matplotlib.pyplot as plt\n",
        "from sklearn.linear_model import Lasso\n",
        "from sklearn.metrics import r2_score\n",
        "figsize(6,6)\n",
        "alpha = 0.1\n",
        "lasso = Lasso(alpha=alpha)\n",
        "\n",
        "y_pred_lasso = lasso.fit(X_train, y_train).predict(X_test)\n",
        "r2_score_lasso = r2_score(y_test, y_pred_lasso)\n",
        "print(lasso)\n",
        "print(\"r^2 on test data : %f\" % r2_score_lasso)\n",
        "\n",
        "###############################################################################\n",
        "# ElasticNet\n",
        "from sklearn.linear_model import ElasticNet\n",
        "\n",
        "enet = ElasticNet(alpha=alpha, l1_ratio=0.7)\n",
        "\n",
        "y_pred_enet = enet.fit(X_train, y_train).predict(X_test)\n",
        "r2_score_enet = r2_score(y_test, y_pred_enet)\n",
        "print(enet)\n",
        "print(\"r^2 on test data : %f\" % r2_score_enet)\n",
        "\n",
        "plt.plot(enet.coef_, label='Elastic net coefficients')\n",
        "plt.plot(lasso.coef_, label='Lasso coefficients')\n",
        "plt.legend(loc='best')\n",
        "plt.title(\"Lasso R^2: %f, Elastic Net R^2: %f\"\n",
        "          % (r2_score_lasso, r2_score_enet))\n",
        "plt.show()"
      ],
      "execution_count": 71,
      "outputs": [
        {
          "output_type": "stream",
          "text": [
            "Lasso(alpha=0.1, copy_X=True, fit_intercept=True, max_iter=1000,\n",
            "      normalize=False, positive=False, precompute=False, random_state=None,\n",
            "      selection='cyclic', tol=0.0001, warm_start=False)\n",
            "r^2 on test data : 1.000000\n",
            "ElasticNet(alpha=0.1, copy_X=True, fit_intercept=True, l1_ratio=0.7,\n",
            "           max_iter=1000, normalize=False, positive=False, precompute=False,\n",
            "           random_state=None, selection='cyclic', tol=0.0001, warm_start=False)\n",
            "r^2 on test data : 1.000000\n"
          ],
          "name": "stdout"
        },
        {
          "output_type": "display_data",
          "data": {
            "image/png": "[encoded data removed]",
            "text/plain": [
              "<Figure size 432x432 with 1 Axes>"
            ]
          },
          "metadata": {
            "tags": []
          }
        }
      ]
    },
    {
      "cell_type": "code",
      "metadata": {
        "id": "BAOu9YW5tqZK"
      },
      "source": [
        "from sklearn.metrics import mean_squared_error"
      ],
      "execution_count": 72,
      "outputs": []
    },
    {
      "cell_type": "code",
      "metadata": {
        "scrolled": false,
        "id": "M7F4pze2qW-p"
      },
      "source": [
        "from sklearn import ensemble\n",
        "###############################################################################\n",
        "# Fit regression model\n",
        "params = {'n_estimators': 1000, 'max_depth': 20, 'min_samples_split': 17, 'max_features': 1.0,\n",
        "          'learning_rate': 0.01, 'loss': 'huber'}\n",
        "clf = ensemble.GradientBoostingRegressor(**params)\n",
        "\n",
        "clf.fit(X_train, y_train)\n",
        "mse = mean_squared_error(y_test, clf.predict(X_test))\n",
        "print(\"MSE: %.4f\" % mse)\n",
        "\n",
        "###############################################################################\n",
        "# Plot training deviance\n",
        "\n",
        "# compute test set deviance\n",
        "test_score = np.zeros((params['n_estimators'],), dtype=np.float64)\n",
        "\n",
        "for i, y_pred in enumerate(clf.staged_predict(X_test)):\n",
        "    test_score[i] = clf.loss_(y_test, y_pred)\n",
        "\n",
        "plt.figure(figsize=(12, 6))\n",
        "plt.subplot(1, 2, 1)\n",
        "plt.title('Deviance')\n",
        "plt.plot(np.arange(params['n_estimators']) + 1, clf.train_score_, 'b-',\n",
        "         label='Training Set Deviance')\n",
        "plt.plot(np.arange(params['n_estimators']) + 1, test_score, 'r-',\n",
        "         label='Test Set Deviance')\n",
        "plt.legend(loc='upper right')\n",
        "plt.xlabel('Boosting Iterations')\n",
        "plt.ylabel('Deviance')\n",
        "\n"
      ],
      "execution_count": null,
      "outputs": []
    },
    {
      "cell_type": "code",
      "metadata": {
        "scrolled": true,
        "colab": {
          "base_uri": "https://localhost:8080/",
          "height": 404
        },
        "id": "BvvQcvx8qW-p",
        "outputId": "74a98439-efb6-4f11-a822-a1a711a522e8"
      },
      "source": [
        "###############################################################################\n",
        "# Plot feature importance\n",
        "feature_importance = clf.feature_importances_\n",
        "# make importances relative to max importance\n",
        "feature_importance = 100.0 * (feature_importance / feature_importance.max())\n",
        "sorted_idx = np.argsort(feature_importance)\n",
        "pos = np.arange(sorted_idx.shape[0]) + .5\n",
        "plt.subplot(1, 2, 2)\n",
        "plt.barh(pos, feature_importance[sorted_idx], align='center')\n",
        "plt.yticks(pos, names)\n",
        "plt.xlabel('Relative Importance')\n",
        "plt.title('Variable Importance')\n",
        "plt.show()"
      ],
      "execution_count": 34,
      "outputs": [
        {
          "output_type": "display_data",
          "data": {
            "image/png": "[encoded data removed]",
            "text/plain": [
              "<Figure size 432x432 with 1 Axes>"
            ]
          },
          "metadata": {
            "tags": []
          }
        }
      ]
    },
    {
      "cell_type": "code",
      "metadata": {
        "colab": {
          "base_uri": "https://localhost:8080/"
        },
        "id": "Qd1yjKCMqW-q",
        "outputId": "cf1de3e9-e3d0-4ee7-8941-7a90e21a8757"
      },
      "source": [
        "from sklearn.metrics import mean_squared_error\n",
        "mse = mean_squared_error(y_test, clf.predict(X_test))\n",
        "print(\"MSE: %.4f\" % mse)"
      ],
      "execution_count": 45,
      "outputs": [
        {
          "output_type": "stream",
          "text": [
            "MSE: 16722.7329\n"
          ],
          "name": "stdout"
        }
      ]
    },
    {
      "cell_type": "code",
      "metadata": {
        "id": "Wh5KaSWDxGVa"
      },
      "source": [
        ""
      ],
      "execution_count": null,
      "outputs": []
    }
  ]
}