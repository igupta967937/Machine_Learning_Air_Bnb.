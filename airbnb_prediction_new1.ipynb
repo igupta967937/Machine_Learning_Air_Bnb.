{
  "nbformat": 4,
  "nbformat_minor": 0,
  "metadata": {
    "kernelspec": {
      "display_name": "Python 3",
      "language": "python",
      "name": "python3"
    },
    "language_info": {
      "codemirror_mode": {
        "name": "ipython",
        "version": 3
      },
      "file_extension": ".py",
      "mimetype": "text/x-python",
      "name": "python",
      "nbconvert_exporter": "python",
      "pygments_lexer": "ipython3",
      "version": "3.4.3"
    },
    "colab": {
      "name": "airbnb_prediction.ipynb",
      "provenance": [],
      "toc_visible": true
    }
  },
  "cells": [
    {
      "cell_type": "code",
      "metadata": {
        "id": "5qhOioQjqW-e"
      },
      "source": [
        "%matplotlib inline\n",
        "import pandas as pd\n",
        "import seaborn as sns\n",
        "import matplotlib.pyplot as plt\n",
        "import numpy as np\n"
      ],
      "execution_count": null,
      "outputs": []
    },
    {
      "cell_type": "code",
      "metadata": {
        "id": "uABPIgqMqW-f"
      },
      "source": [
        "\n",
        "def p2f(x):\n",
        "    return float(x.strip('%'))/100"
      ],
      "execution_count": null,
      "outputs": []
    },
    {
      "cell_type": "code",
      "metadata": {
        "colab": {
          "base_uri": "https://localhost:8080/"
        },
        "id": "GCxA3oO4qrTs",
        "outputId": "7e5798e9-90cb-4f19-93d1-327f5a9d03d8"
      },
      "source": [
        "\r\n",
        "import numpy as np\r\n",
        "import pandas as pd\r\n",
        "import matplotlib.pyplot as plt\r\n",
        "import statsmodels.api as sm\r\n",
        "import gzip\r\n",
        "import shutil\r\n",
        "import matplotlib.font_manager as font_manager\r\n",
        "\r\n",
        "\"\"\"Unzip the gz file\"\"\"\r\n",
        "\r\n",
        "with gzip.open('listings.csv.gz', 'rb') as f_in:\r\n",
        "    with open('listings.csv', 'wb') as f_out:\r\n",
        "        shutil.copyfileobj(f_in, f_out)\r\n",
        "\r\n",
        "\"\"\"Reading CSV file. Th etotal number of rows in listing is 44666\"\"\"\r\n",
        "\r\n",
        "pd.set_option('precision', 4)\r\n",
        "df_listing = pd.read_csv('listings.csv')\r\n",
        "\r\n",
        "df_listing.shape"
      ],
      "execution_count": null,
      "outputs": [
        {
          "output_type": "stream",
          "text": [
            "/usr/local/lib/python3.6/dist-packages/statsmodels/tools/_testing.py:19: FutureWarning: pandas.util.testing is deprecated. Use the functions in the public API at pandas.testing instead.\n",
            "  import pandas.util.testing as tm\n"
          ],
          "name": "stderr"
        },
        {
          "output_type": "execute_result",
          "data": {
            "text/plain": [
              "(44666, 74)"
            ]
          },
          "metadata": {
            "tags": []
          },
          "execution_count": 3
        }
      ]
    },
    {
      "cell_type": "code",
      "metadata": {
        "id": "dqqz0QCHujkd"
      },
      "source": [
        "import itertools\r\n",
        "import scipy as sp\r\n",
        "import pymc3 as pm3\r\n",
        "from scipy import stats\r\n",
        "from IPython.core.pylabtools import figsize\r\n",
        "import os\r\n",
        "figsize(12, 12)\r\n",
        "sns.set_style('darkgrid')"
      ],
      "execution_count": null,
      "outputs": []
    },
    {
      "cell_type": "code",
      "metadata": {
        "id": "5yd0KNbOwkLi",
        "colab": {
          "base_uri": "https://localhost:8080/"
        },
        "outputId": "d2a8b4a8-0842-48be-bfc2-d1fd23c9f3fd"
      },
      "source": [
        "\"\"\"Remove unwanted chracters from price. Convert price to float. Select properties with price more than 0\"\"\"\r\n",
        "\r\n",
        "df_listing['price'] = df_listing['price'].str.replace('$', '')\r\n",
        "df_listing['price'] = df_listing['price'].str.replace(',', '')\r\n",
        "df_listing[\"price\"] = pd.to_numeric(df_listing[\"price\"], downcast=\"float\")\r\n",
        "df_listing = df_listing[df_listing.price > 0]\r\n",
        "\r\n",
        "df_listing.isnull().sum().sort_values(ascending=False)"
      ],
      "execution_count": null,
      "outputs": [
        {
          "output_type": "execute_result",
          "data": {
            "text/plain": [
              "bathrooms                       44641\n",
              "license                         44641\n",
              "calendar_updated                44641\n",
              "host_response_time              23068\n",
              "host_response_rate              23068\n",
              "                                ...  \n",
              "property_type                       0\n",
              "longitude                           0\n",
              "latitude                            0\n",
              "neighbourhood_group_cleansed        0\n",
              "id                                  0\n",
              "Length: 74, dtype: int64"
            ]
          },
          "metadata": {
            "tags": []
          },
          "execution_count": 4
        }
      ]
    },
    {
      "cell_type": "code",
      "metadata": {
        "colab": {
          "base_uri": "https://localhost:8080/"
        },
        "id": "82Umbp-mrb6N",
        "outputId": "dc39af36-4ea8-476f-ce74-620fbbad9fcf"
      },
      "source": [
        "df_listing.columns"
      ],
      "execution_count": null,
      "outputs": [
        {
          "output_type": "execute_result",
          "data": {
            "text/plain": [
              "Index(['id', 'listing_url', 'scrape_id', 'last_scraped', 'name', 'description',\n",
              "       'neighborhood_overview', 'picture_url', 'host_id', 'host_url',\n",
              "       'host_name', 'host_since', 'host_location', 'host_about',\n",
              "       'host_response_time', 'host_response_rate', 'host_acceptance_rate',\n",
              "       'host_is_superhost', 'host_thumbnail_url', 'host_picture_url',\n",
              "       'host_neighbourhood', 'host_listings_count',\n",
              "       'host_total_listings_count', 'host_verifications',\n",
              "       'host_has_profile_pic', 'host_identity_verified', 'neighbourhood',\n",
              "       'neighbourhood_cleansed', 'neighbourhood_group_cleansed', 'latitude',\n",
              "       'longitude', 'property_type', 'room_type', 'accommodates', 'bathrooms',\n",
              "       'bathrooms_text', 'bedrooms', 'beds', 'amenities', 'price',\n",
              "       'minimum_nights', 'maximum_nights', 'minimum_minimum_nights',\n",
              "       'maximum_minimum_nights', 'minimum_maximum_nights',\n",
              "       'maximum_maximum_nights', 'minimum_nights_avg_ntm',\n",
              "       'maximum_nights_avg_ntm', 'calendar_updated', 'has_availability',\n",
              "       'availability_30', 'availability_60', 'availability_90',\n",
              "       'availability_365', 'calendar_last_scraped', 'number_of_reviews',\n",
              "       'number_of_reviews_ltm', 'number_of_reviews_l30d', 'first_review',\n",
              "       'last_review', 'review_scores_rating', 'review_scores_accuracy',\n",
              "       'review_scores_cleanliness', 'review_scores_checkin',\n",
              "       'review_scores_communication', 'review_scores_location',\n",
              "       'review_scores_value', 'license', 'instant_bookable',\n",
              "       'calculated_host_listings_count',\n",
              "       'calculated_host_listings_count_entire_homes',\n",
              "       'calculated_host_listings_count_private_rooms',\n",
              "       'calculated_host_listings_count_shared_rooms', 'reviews_per_month'],\n",
              "      dtype='object')"
            ]
          },
          "metadata": {
            "tags": []
          },
          "execution_count": 5
        }
      ]
    },
    {
      "cell_type": "code",
      "metadata": {
        "collapsed": true,
        "id": "a47306cYqW-h"
      },
      "source": [
        "df_to = df_listing[['reviews_per_month', 'number_of_reviews', 'host_response_rate', 'instant_bookable', 'review_scores_communication', 'price']]"
      ],
      "execution_count": null,
      "outputs": []
    },
    {
      "cell_type": "code",
      "metadata": {
        "colab": {
          "base_uri": "https://localhost:8080/",
          "height": 427
        },
        "id": "ocNQ6Hi8qW-i",
        "outputId": "7b813d78-af8f-4486-c7db-96d197f66226"
      },
      "source": [
        "df_to"
      ],
      "execution_count": null,
      "outputs": [
        {
          "output_type": "execute_result",
          "data": {
            "text/html": [
              "<div>\n",
              "<style scoped>\n",
              "    .dataframe tbody tr th:only-of-type {\n",
              "        vertical-align: middle;\n",
              "    }\n",
              "\n",
              "    .dataframe tbody tr th {\n",
              "        vertical-align: top;\n",
              "    }\n",
              "\n",
              "    .dataframe thead th {\n",
              "        text-align: right;\n",
              "    }\n",
              "</style>\n",
              "<table border=\"1\" class=\"dataframe\">\n",
              "  <thead>\n",
              "    <tr style=\"text-align: right;\">\n",
              "      <th></th>\n",
              "      <th>reviews_per_month</th>\n",
              "      <th>number_of_reviews</th>\n",
              "      <th>host_response_rate</th>\n",
              "      <th>instant_bookable</th>\n",
              "      <th>review_scores_communication</th>\n",
              "      <th>price</th>\n",
              "    </tr>\n",
              "  </thead>\n",
              "  <tbody>\n",
              "    <tr>\n",
              "      <th>0</th>\n",
              "      <td>0.36</td>\n",
              "      <td>48</td>\n",
              "      <td>70%</td>\n",
              "      <td>f</td>\n",
              "      <td>10.0</td>\n",
              "      <td>175.0</td>\n",
              "    </tr>\n",
              "    <tr>\n",
              "      <th>1</th>\n",
              "      <td>4.82</td>\n",
              "      <td>354</td>\n",
              "      <td>98%</td>\n",
              "      <td>f</td>\n",
              "      <td>9.0</td>\n",
              "      <td>76.0</td>\n",
              "    </tr>\n",
              "    <tr>\n",
              "      <th>2</th>\n",
              "      <td>0.36</td>\n",
              "      <td>50</td>\n",
              "      <td>NaN</td>\n",
              "      <td>f</td>\n",
              "      <td>10.0</td>\n",
              "      <td>60.0</td>\n",
              "    </tr>\n",
              "    <tr>\n",
              "      <th>3</th>\n",
              "      <td>0.01</td>\n",
              "      <td>1</td>\n",
              "      <td>100%</td>\n",
              "      <td>f</td>\n",
              "      <td>10.0</td>\n",
              "      <td>175.0</td>\n",
              "    </tr>\n",
              "    <tr>\n",
              "      <th>4</th>\n",
              "      <td>3.40</td>\n",
              "      <td>473</td>\n",
              "      <td>100%</td>\n",
              "      <td>f</td>\n",
              "      <td>9.0</td>\n",
              "      <td>73.0</td>\n",
              "    </tr>\n",
              "    <tr>\n",
              "      <th>...</th>\n",
              "      <td>...</td>\n",
              "      <td>...</td>\n",
              "      <td>...</td>\n",
              "      <td>...</td>\n",
              "      <td>...</td>\n",
              "      <td>...</td>\n",
              "    </tr>\n",
              "    <tr>\n",
              "      <th>44661</th>\n",
              "      <td>NaN</td>\n",
              "      <td>0</td>\n",
              "      <td>100%</td>\n",
              "      <td>f</td>\n",
              "      <td>NaN</td>\n",
              "      <td>50.0</td>\n",
              "    </tr>\n",
              "    <tr>\n",
              "      <th>44662</th>\n",
              "      <td>NaN</td>\n",
              "      <td>0</td>\n",
              "      <td>100%</td>\n",
              "      <td>f</td>\n",
              "      <td>NaN</td>\n",
              "      <td>200.0</td>\n",
              "    </tr>\n",
              "    <tr>\n",
              "      <th>44663</th>\n",
              "      <td>NaN</td>\n",
              "      <td>0</td>\n",
              "      <td>100%</td>\n",
              "      <td>f</td>\n",
              "      <td>NaN</td>\n",
              "      <td>92.0</td>\n",
              "    </tr>\n",
              "    <tr>\n",
              "      <th>44664</th>\n",
              "      <td>NaN</td>\n",
              "      <td>0</td>\n",
              "      <td>100%</td>\n",
              "      <td>f</td>\n",
              "      <td>NaN</td>\n",
              "      <td>120.0</td>\n",
              "    </tr>\n",
              "    <tr>\n",
              "      <th>44665</th>\n",
              "      <td>NaN</td>\n",
              "      <td>0</td>\n",
              "      <td>100%</td>\n",
              "      <td>f</td>\n",
              "      <td>NaN</td>\n",
              "      <td>54.0</td>\n",
              "    </tr>\n",
              "  </tbody>\n",
              "</table>\n",
              "<p>44641 rows × 6 columns</p>\n",
              "</div>"
            ],
            "text/plain": [
              "       reviews_per_month  number_of_reviews  ... review_scores_communication  price\n",
              "0                   0.36                 48  ...                        10.0  175.0\n",
              "1                   4.82                354  ...                         9.0   76.0\n",
              "2                   0.36                 50  ...                        10.0   60.0\n",
              "3                   0.01                  1  ...                        10.0  175.0\n",
              "4                   3.40                473  ...                         9.0   73.0\n",
              "...                  ...                ...  ...                         ...    ...\n",
              "44661                NaN                  0  ...                         NaN   50.0\n",
              "44662                NaN                  0  ...                         NaN  200.0\n",
              "44663                NaN                  0  ...                         NaN   92.0\n",
              "44664                NaN                  0  ...                         NaN  120.0\n",
              "44665                NaN                  0  ...                         NaN   54.0\n",
              "\n",
              "[44641 rows x 6 columns]"
            ]
          },
          "metadata": {
            "tags": []
          },
          "execution_count": 7
        }
      ]
    },
    {
      "cell_type": "code",
      "metadata": {
        "colab": {
          "base_uri": "https://localhost:8080/"
        },
        "id": "yB7a_-lVqW-j",
        "outputId": "647b01d6-863e-479b-eb4f-0f7334d78c63"
      },
      "source": [
        "df_to['reviews_per_month'] = df_to['reviews_per_month'].fillna(0)\n",
        "df_to['host_response_rate'] = df_to['host_response_rate'].fillna(0)\n",
        "df_to['review_scores_communication'] = df_to['review_scores_communication'].fillna(0)\n",
        "df_to['instant_bookable'] = df_to['instant_bookable'].astype('category')\n",
        "df_to['reviews_per_month'] = df_to['reviews_per_month'].astype('int32')"
      ],
      "execution_count": null,
      "outputs": [
        {
          "output_type": "stream",
          "text": [
            "/usr/local/lib/python3.6/dist-packages/ipykernel_launcher.py:1: SettingWithCopyWarning: \n",
            "A value is trying to be set on a copy of a slice from a DataFrame.\n",
            "Try using .loc[row_indexer,col_indexer] = value instead\n",
            "\n",
            "See the caveats in the documentation: https://pandas.pydata.org/pandas-docs/stable/user_guide/indexing.html#returning-a-view-versus-a-copy\n",
            "  \"\"\"Entry point for launching an IPython kernel.\n",
            "/usr/local/lib/python3.6/dist-packages/ipykernel_launcher.py:2: SettingWithCopyWarning: \n",
            "A value is trying to be set on a copy of a slice from a DataFrame.\n",
            "Try using .loc[row_indexer,col_indexer] = value instead\n",
            "\n",
            "See the caveats in the documentation: https://pandas.pydata.org/pandas-docs/stable/user_guide/indexing.html#returning-a-view-versus-a-copy\n",
            "  \n",
            "/usr/local/lib/python3.6/dist-packages/ipykernel_launcher.py:3: SettingWithCopyWarning: \n",
            "A value is trying to be set on a copy of a slice from a DataFrame.\n",
            "Try using .loc[row_indexer,col_indexer] = value instead\n",
            "\n",
            "See the caveats in the documentation: https://pandas.pydata.org/pandas-docs/stable/user_guide/indexing.html#returning-a-view-versus-a-copy\n",
            "  This is separate from the ipykernel package so we can avoid doing imports until\n",
            "/usr/local/lib/python3.6/dist-packages/ipykernel_launcher.py:4: SettingWithCopyWarning: \n",
            "A value is trying to be set on a copy of a slice from a DataFrame.\n",
            "Try using .loc[row_indexer,col_indexer] = value instead\n",
            "\n",
            "See the caveats in the documentation: https://pandas.pydata.org/pandas-docs/stable/user_guide/indexing.html#returning-a-view-versus-a-copy\n",
            "  after removing the cwd from sys.path.\n",
            "/usr/local/lib/python3.6/dist-packages/ipykernel_launcher.py:5: SettingWithCopyWarning: \n",
            "A value is trying to be set on a copy of a slice from a DataFrame.\n",
            "Try using .loc[row_indexer,col_indexer] = value instead\n",
            "\n",
            "See the caveats in the documentation: https://pandas.pydata.org/pandas-docs/stable/user_guide/indexing.html#returning-a-view-versus-a-copy\n",
            "  \"\"\"\n"
          ],
          "name": "stderr"
        }
      ]
    },
    {
      "cell_type": "code",
      "metadata": {
        "colab": {
          "base_uri": "https://localhost:8080/"
        },
        "id": "CyfrbE4YqW-k",
        "outputId": "8ff57384-5c4d-4fc4-fd48-e6a49ab9b923"
      },
      "source": [
        "df_to['host_response_rate'] = df_to['host_response_rate'].astype('str')\n",
        "df_to['host_response_rate'] = df_to['host_response_rate'].apply(p2f)"
      ],
      "execution_count": null,
      "outputs": [
        {
          "output_type": "stream",
          "text": [
            "/usr/local/lib/python3.6/dist-packages/ipykernel_launcher.py:1: SettingWithCopyWarning: \n",
            "A value is trying to be set on a copy of a slice from a DataFrame.\n",
            "Try using .loc[row_indexer,col_indexer] = value instead\n",
            "\n",
            "See the caveats in the documentation: https://pandas.pydata.org/pandas-docs/stable/user_guide/indexing.html#returning-a-view-versus-a-copy\n",
            "  \"\"\"Entry point for launching an IPython kernel.\n",
            "/usr/local/lib/python3.6/dist-packages/ipykernel_launcher.py:2: SettingWithCopyWarning: \n",
            "A value is trying to be set on a copy of a slice from a DataFrame.\n",
            "Try using .loc[row_indexer,col_indexer] = value instead\n",
            "\n",
            "See the caveats in the documentation: https://pandas.pydata.org/pandas-docs/stable/user_guide/indexing.html#returning-a-view-versus-a-copy\n",
            "  \n"
          ],
          "name": "stderr"
        }
      ]
    },
    {
      "cell_type": "code",
      "metadata": {
        "colab": {
          "base_uri": "https://localhost:8080/",
          "height": 427
        },
        "id": "vR59Bq6vqW-k",
        "outputId": "b60b1446-319c-4d1d-a753-9c2a399fbadf"
      },
      "source": [
        "df_to"
      ],
      "execution_count": null,
      "outputs": [
        {
          "output_type": "execute_result",
          "data": {
            "text/html": [
              "<div>\n",
              "<style scoped>\n",
              "    .dataframe tbody tr th:only-of-type {\n",
              "        vertical-align: middle;\n",
              "    }\n",
              "\n",
              "    .dataframe tbody tr th {\n",
              "        vertical-align: top;\n",
              "    }\n",
              "\n",
              "    .dataframe thead th {\n",
              "        text-align: right;\n",
              "    }\n",
              "</style>\n",
              "<table border=\"1\" class=\"dataframe\">\n",
              "  <thead>\n",
              "    <tr style=\"text-align: right;\">\n",
              "      <th></th>\n",
              "      <th>reviews_per_month</th>\n",
              "      <th>number_of_reviews</th>\n",
              "      <th>host_response_rate</th>\n",
              "      <th>instant_bookable</th>\n",
              "      <th>review_scores_communication</th>\n",
              "      <th>price</th>\n",
              "    </tr>\n",
              "  </thead>\n",
              "  <tbody>\n",
              "    <tr>\n",
              "      <th>0</th>\n",
              "      <td>0</td>\n",
              "      <td>48</td>\n",
              "      <td>0.70</td>\n",
              "      <td>f</td>\n",
              "      <td>10.0</td>\n",
              "      <td>175.0</td>\n",
              "    </tr>\n",
              "    <tr>\n",
              "      <th>1</th>\n",
              "      <td>4</td>\n",
              "      <td>354</td>\n",
              "      <td>0.98</td>\n",
              "      <td>f</td>\n",
              "      <td>9.0</td>\n",
              "      <td>76.0</td>\n",
              "    </tr>\n",
              "    <tr>\n",
              "      <th>2</th>\n",
              "      <td>0</td>\n",
              "      <td>50</td>\n",
              "      <td>0.00</td>\n",
              "      <td>f</td>\n",
              "      <td>10.0</td>\n",
              "      <td>60.0</td>\n",
              "    </tr>\n",
              "    <tr>\n",
              "      <th>3</th>\n",
              "      <td>0</td>\n",
              "      <td>1</td>\n",
              "      <td>1.00</td>\n",
              "      <td>f</td>\n",
              "      <td>10.0</td>\n",
              "      <td>175.0</td>\n",
              "    </tr>\n",
              "    <tr>\n",
              "      <th>4</th>\n",
              "      <td>3</td>\n",
              "      <td>473</td>\n",
              "      <td>1.00</td>\n",
              "      <td>f</td>\n",
              "      <td>9.0</td>\n",
              "      <td>73.0</td>\n",
              "    </tr>\n",
              "    <tr>\n",
              "      <th>...</th>\n",
              "      <td>...</td>\n",
              "      <td>...</td>\n",
              "      <td>...</td>\n",
              "      <td>...</td>\n",
              "      <td>...</td>\n",
              "      <td>...</td>\n",
              "    </tr>\n",
              "    <tr>\n",
              "      <th>44661</th>\n",
              "      <td>0</td>\n",
              "      <td>0</td>\n",
              "      <td>1.00</td>\n",
              "      <td>f</td>\n",
              "      <td>0.0</td>\n",
              "      <td>50.0</td>\n",
              "    </tr>\n",
              "    <tr>\n",
              "      <th>44662</th>\n",
              "      <td>0</td>\n",
              "      <td>0</td>\n",
              "      <td>1.00</td>\n",
              "      <td>f</td>\n",
              "      <td>0.0</td>\n",
              "      <td>200.0</td>\n",
              "    </tr>\n",
              "    <tr>\n",
              "      <th>44663</th>\n",
              "      <td>0</td>\n",
              "      <td>0</td>\n",
              "      <td>1.00</td>\n",
              "      <td>f</td>\n",
              "      <td>0.0</td>\n",
              "      <td>92.0</td>\n",
              "    </tr>\n",
              "    <tr>\n",
              "      <th>44664</th>\n",
              "      <td>0</td>\n",
              "      <td>0</td>\n",
              "      <td>1.00</td>\n",
              "      <td>f</td>\n",
              "      <td>0.0</td>\n",
              "      <td>120.0</td>\n",
              "    </tr>\n",
              "    <tr>\n",
              "      <th>44665</th>\n",
              "      <td>0</td>\n",
              "      <td>0</td>\n",
              "      <td>1.00</td>\n",
              "      <td>f</td>\n",
              "      <td>0.0</td>\n",
              "      <td>54.0</td>\n",
              "    </tr>\n",
              "  </tbody>\n",
              "</table>\n",
              "<p>44641 rows × 6 columns</p>\n",
              "</div>"
            ],
            "text/plain": [
              "       reviews_per_month  number_of_reviews  ...  review_scores_communication  price\n",
              "0                      0                 48  ...                         10.0  175.0\n",
              "1                      4                354  ...                          9.0   76.0\n",
              "2                      0                 50  ...                         10.0   60.0\n",
              "3                      0                  1  ...                         10.0  175.0\n",
              "4                      3                473  ...                          9.0   73.0\n",
              "...                  ...                ...  ...                          ...    ...\n",
              "44661                  0                  0  ...                          0.0   50.0\n",
              "44662                  0                  0  ...                          0.0  200.0\n",
              "44663                  0                  0  ...                          0.0   92.0\n",
              "44664                  0                  0  ...                          0.0  120.0\n",
              "44665                  0                  0  ...                          0.0   54.0\n",
              "\n",
              "[44641 rows x 6 columns]"
            ]
          },
          "metadata": {
            "tags": []
          },
          "execution_count": 10
        }
      ]
    },
    {
      "cell_type": "code",
      "metadata": {
        "colab": {
          "base_uri": "https://localhost:8080/",
          "height": 427
        },
        "id": "UE-xcxZxqW-l",
        "outputId": "1fd26129-b09f-4319-91f8-c45019b7a5c3"
      },
      "source": [
        "y = df_listing['price'].values\n",
        "df_to"
      ],
      "execution_count": null,
      "outputs": [
        {
          "output_type": "execute_result",
          "data": {
            "text/html": [
              "<div>\n",
              "<style scoped>\n",
              "    .dataframe tbody tr th:only-of-type {\n",
              "        vertical-align: middle;\n",
              "    }\n",
              "\n",
              "    .dataframe tbody tr th {\n",
              "        vertical-align: top;\n",
              "    }\n",
              "\n",
              "    .dataframe thead th {\n",
              "        text-align: right;\n",
              "    }\n",
              "</style>\n",
              "<table border=\"1\" class=\"dataframe\">\n",
              "  <thead>\n",
              "    <tr style=\"text-align: right;\">\n",
              "      <th></th>\n",
              "      <th>reviews_per_month</th>\n",
              "      <th>number_of_reviews</th>\n",
              "      <th>host_response_rate</th>\n",
              "      <th>instant_bookable</th>\n",
              "      <th>review_scores_communication</th>\n",
              "      <th>price</th>\n",
              "    </tr>\n",
              "  </thead>\n",
              "  <tbody>\n",
              "    <tr>\n",
              "      <th>0</th>\n",
              "      <td>0</td>\n",
              "      <td>48</td>\n",
              "      <td>0.70</td>\n",
              "      <td>f</td>\n",
              "      <td>10.0</td>\n",
              "      <td>175.0</td>\n",
              "    </tr>\n",
              "    <tr>\n",
              "      <th>1</th>\n",
              "      <td>4</td>\n",
              "      <td>354</td>\n",
              "      <td>0.98</td>\n",
              "      <td>f</td>\n",
              "      <td>9.0</td>\n",
              "      <td>76.0</td>\n",
              "    </tr>\n",
              "    <tr>\n",
              "      <th>2</th>\n",
              "      <td>0</td>\n",
              "      <td>50</td>\n",
              "      <td>0.00</td>\n",
              "      <td>f</td>\n",
              "      <td>10.0</td>\n",
              "      <td>60.0</td>\n",
              "    </tr>\n",
              "    <tr>\n",
              "      <th>3</th>\n",
              "      <td>0</td>\n",
              "      <td>1</td>\n",
              "      <td>1.00</td>\n",
              "      <td>f</td>\n",
              "      <td>10.0</td>\n",
              "      <td>175.0</td>\n",
              "    </tr>\n",
              "    <tr>\n",
              "      <th>4</th>\n",
              "      <td>3</td>\n",
              "      <td>473</td>\n",
              "      <td>1.00</td>\n",
              "      <td>f</td>\n",
              "      <td>9.0</td>\n",
              "      <td>73.0</td>\n",
              "    </tr>\n",
              "    <tr>\n",
              "      <th>...</th>\n",
              "      <td>...</td>\n",
              "      <td>...</td>\n",
              "      <td>...</td>\n",
              "      <td>...</td>\n",
              "      <td>...</td>\n",
              "      <td>...</td>\n",
              "    </tr>\n",
              "    <tr>\n",
              "      <th>44661</th>\n",
              "      <td>0</td>\n",
              "      <td>0</td>\n",
              "      <td>1.00</td>\n",
              "      <td>f</td>\n",
              "      <td>0.0</td>\n",
              "      <td>50.0</td>\n",
              "    </tr>\n",
              "    <tr>\n",
              "      <th>44662</th>\n",
              "      <td>0</td>\n",
              "      <td>0</td>\n",
              "      <td>1.00</td>\n",
              "      <td>f</td>\n",
              "      <td>0.0</td>\n",
              "      <td>200.0</td>\n",
              "    </tr>\n",
              "    <tr>\n",
              "      <th>44663</th>\n",
              "      <td>0</td>\n",
              "      <td>0</td>\n",
              "      <td>1.00</td>\n",
              "      <td>f</td>\n",
              "      <td>0.0</td>\n",
              "      <td>92.0</td>\n",
              "    </tr>\n",
              "    <tr>\n",
              "      <th>44664</th>\n",
              "      <td>0</td>\n",
              "      <td>0</td>\n",
              "      <td>1.00</td>\n",
              "      <td>f</td>\n",
              "      <td>0.0</td>\n",
              "      <td>120.0</td>\n",
              "    </tr>\n",
              "    <tr>\n",
              "      <th>44665</th>\n",
              "      <td>0</td>\n",
              "      <td>0</td>\n",
              "      <td>1.00</td>\n",
              "      <td>f</td>\n",
              "      <td>0.0</td>\n",
              "      <td>54.0</td>\n",
              "    </tr>\n",
              "  </tbody>\n",
              "</table>\n",
              "<p>44641 rows × 6 columns</p>\n",
              "</div>"
            ],
            "text/plain": [
              "       reviews_per_month  number_of_reviews  ...  review_scores_communication  price\n",
              "0                      0                 48  ...                         10.0  175.0\n",
              "1                      4                354  ...                          9.0   76.0\n",
              "2                      0                 50  ...                         10.0   60.0\n",
              "3                      0                  1  ...                         10.0  175.0\n",
              "4                      3                473  ...                          9.0   73.0\n",
              "...                  ...                ...  ...                          ...    ...\n",
              "44661                  0                  0  ...                          0.0   50.0\n",
              "44662                  0                  0  ...                          0.0  200.0\n",
              "44663                  0                  0  ...                          0.0   92.0\n",
              "44664                  0                  0  ...                          0.0  120.0\n",
              "44665                  0                  0  ...                          0.0   54.0\n",
              "\n",
              "[44641 rows x 6 columns]"
            ]
          },
          "metadata": {
            "tags": []
          },
          "execution_count": 11
        }
      ]
    },
    {
      "cell_type": "code",
      "metadata": {
        "id": "PV5Utb6rqW-l"
      },
      "source": [
        "df_to = pd.get_dummies(df_to)"
      ],
      "execution_count": null,
      "outputs": []
    },
    {
      "cell_type": "code",
      "metadata": {
        "id": "Yq0J3mWqqW-l"
      },
      "source": [
        "X = df_to.values"
      ],
      "execution_count": null,
      "outputs": []
    },
    {
      "cell_type": "markdown",
      "metadata": {
        "id": "KICHvsEVqW-l"
      },
      "source": [
        "* Let us look at one of the columns. \n",
        "* We see below that we have a very large variety of numbers, let us apply next a preprocessing step. "
      ]
    },
    {
      "cell_type": "code",
      "metadata": {
        "colab": {
          "base_uri": "https://localhost:8080/"
        },
        "id": "PT-TeL7jqW-m",
        "outputId": "dc2921ac-d917-47e7-de4c-3bb948ab6b02"
      },
      "source": [
        "X[:,1]"
      ],
      "execution_count": null,
      "outputs": [
        {
          "output_type": "execute_result",
          "data": {
            "text/plain": [
              "array([ 48., 354.,  50., ...,   0.,   0.,   0.])"
            ]
          },
          "metadata": {
            "tags": []
          },
          "execution_count": 14
        }
      ]
    },
    {
      "cell_type": "code",
      "metadata": {
        "id": "i6bN_Aa6qW-m"
      },
      "source": [
        "from sklearn import preprocessing\n",
        "X[:,1] = preprocessing.scale(X[:,1])\n"
      ],
      "execution_count": null,
      "outputs": []
    },
    {
      "cell_type": "code",
      "metadata": {
        "colab": {
          "base_uri": "https://localhost:8080/"
        },
        "id": "gTAbnNmaqW-m",
        "outputId": "08980ad5-2cac-41d5-b187-ccc561c48e6b"
      },
      "source": [
        "X"
      ],
      "execution_count": null,
      "outputs": [
        {
          "output_type": "execute_result",
          "data": {
            "text/plain": [
              "array([[  0.        ,   0.54700515,   0.7       , ..., 175.        ,\n",
              "          1.        ,   0.        ],\n",
              "       [  4.        ,   7.10308167,   0.98      , ...,  76.        ,\n",
              "          1.        ,   0.        ],\n",
              "       [  0.        ,   0.58985532,   0.        , ...,  60.        ,\n",
              "          1.        ,   0.        ],\n",
              "       ...,\n",
              "       [  0.        ,  -0.48139901,   1.        , ...,  92.        ,\n",
              "          1.        ,   0.        ],\n",
              "       [  0.        ,  -0.48139901,   1.        , ..., 120.        ,\n",
              "          1.        ,   0.        ],\n",
              "       [  0.        ,  -0.48139901,   1.        , ...,  54.        ,\n",
              "          1.        ,   0.        ]])"
            ]
          },
          "metadata": {
            "tags": []
          },
          "execution_count": 16
        }
      ]
    },
    {
      "cell_type": "code",
      "metadata": {
        "collapsed": true,
        "id": "YEnZgLAQqW-n"
      },
      "source": [
        "from sklearn.model_selection import train_test_split\n",
        "X_train, X_test, y_train, y_test = train_test_split(X, y, test_size=0.2, random_state=42)"
      ],
      "execution_count": null,
      "outputs": []
    },
    {
      "cell_type": "code",
      "metadata": {
        "id": "bQP6Nf6oqW-n"
      },
      "source": [
        "names = df_to.columns.tolist()"
      ],
      "execution_count": null,
      "outputs": []
    },
    {
      "cell_type": "code",
      "metadata": {
        "id": "SFM7sA_vqW-n",
        "colab": {
          "base_uri": "https://localhost:8080/"
        },
        "outputId": "c6da28c0-4b06-476c-b868-e9a811a8848a"
      },
      "source": [
        "X_train"
      ],
      "execution_count": null,
      "outputs": [
        {
          "output_type": "execute_result",
          "data": {
            "text/plain": [
              "array([[ 0.00000000e+00, -4.81399010e-01,  9.80000000e-01, ...,\n",
              "         2.64000000e+02,  0.00000000e+00,  1.00000000e+00],\n",
              "       [ 2.00000000e+00,  4.18454629e-01,  1.00000000e+00, ...,\n",
              "         7.50000000e+01,  1.00000000e+00,  0.00000000e+00],\n",
              "       [ 0.00000000e+00, -3.95698664e-01,  1.00000000e+00, ...,\n",
              "         1.00000000e+02,  1.00000000e+00,  0.00000000e+00],\n",
              "       ...,\n",
              "       [ 0.00000000e+00, -3.95698664e-01,  0.00000000e+00, ...,\n",
              "         4.70000000e+01,  0.00000000e+00,  1.00000000e+00],\n",
              "       [ 0.00000000e+00,  1.39928503e-01,  1.00000000e+00, ...,\n",
              "         5.00000000e+01,  1.00000000e+00,  0.00000000e+00],\n",
              "       [ 0.00000000e+00, -3.74273577e-01,  0.00000000e+00, ...,\n",
              "         1.00000000e+02,  1.00000000e+00,  0.00000000e+00]])"
            ]
          },
          "metadata": {
            "tags": []
          },
          "execution_count": 19
        }
      ]
    },
    {
      "cell_type": "code",
      "metadata": {
        "id": "CePG43HKqW-o"
      },
      "source": [
        "variables = df_to.columns\n"
      ],
      "execution_count": null,
      "outputs": []
    },
    {
      "cell_type": "code",
      "metadata": {
        "id": "EQSSs5wkuCrT"
      },
      "source": [
        "variables  = np.asarray(variables)"
      ],
      "execution_count": null,
      "outputs": []
    },
    {
      "cell_type": "code",
      "metadata": {
        "id": "WtziL7YSuv8a"
      },
      "source": [
        "import numpy as np\r\n",
        "import matplotlib.pyplot as plt\r\n",
        "from sklearn.linear_model import Lasso\r\n",
        "from sklearn.metrics import r2_score\r\n",
        "figsize(6,6)"
      ],
      "execution_count": null,
      "outputs": []
    },
    {
      "cell_type": "code",
      "metadata": {
        "colab": {
          "base_uri": "https://localhost:8080/",
          "height": 535
        },
        "id": "V6HpqaD9qW-o",
        "outputId": "4a8e7851-e7f6-4f38-a7bf-a7b5e7ea15ff"
      },
      "source": [
        "\n",
        "alpha = 0.1\n",
        "lasso = Lasso(alpha=alpha)\n",
        "\n",
        "y_pred_lasso = lasso.fit(X_train, y_train).predict(X_test)\n",
        "r2_score_lasso = r2_score(y_test, y_pred_lasso)\n",
        "print(lasso)\n",
        "print(\"r^2 on test data : %f\" % r2_score_lasso)\n",
        "\n",
        "###############################################################################\n",
        "# ElasticNet\n",
        "from sklearn.linear_model import ElasticNet\n",
        "\n",
        "enet = ElasticNet(alpha=alpha, l1_ratio=0.7)\n",
        "\n",
        "y_pred_enet = enet.fit(X_train, y_train).predict(X_test)\n",
        "r2_score_enet = r2_score(y_test, y_pred_enet)\n",
        "print(enet)\n",
        "print(\"r^2 on test data : %f\" % r2_score_enet)\n",
        "\n",
        "plt.plot(enet.coef_, label='Elastic net coefficients')\n",
        "plt.plot(lasso.coef_, label='Lasso coefficients')\n",
        "plt.legend(loc='best')\n",
        "plt.title(\"Lasso R^2: %f, Elastic Net R^2: %f\"\n",
        "          % (r2_score_lasso, r2_score_enet))\n",
        "plt.show()"
      ],
      "execution_count": null,
      "outputs": [
        {
          "output_type": "stream",
          "text": [
            "Lasso(alpha=0.1, copy_X=True, fit_intercept=True, max_iter=1000,\n",
            "      normalize=False, positive=False, precompute=False, random_state=None,\n",
            "      selection='cyclic', tol=0.0001, warm_start=False)\n",
            "r^2 on test data : 1.000000\n",
            "ElasticNet(alpha=0.1, copy_X=True, fit_intercept=True, l1_ratio=0.7,\n",
            "           max_iter=1000, normalize=False, positive=False, precompute=False,\n",
            "           random_state=None, selection='cyclic', tol=0.0001, warm_start=False)\n",
            "r^2 on test data : 1.000000\n"
          ],
          "name": "stdout"
        },
        {
          "output_type": "display_data",
          "data": {
            "image/png": "[encoded data removed]",
            "text/plain": [
              "<Figure size 432x432 with 1 Axes>"
            ]
          },
          "metadata": {
            "tags": [],
            "needs_background": "light"
          }
        }
      ]
    },
    {
      "cell_type": "code",
      "metadata": {
        "id": "BAOu9YW5tqZK"
      },
      "source": [
        "from sklearn.metrics import mean_squared_error"
      ],
      "execution_count": null,
      "outputs": []
    },
    {
      "cell_type": "code",
      "metadata": {
        "scrolled": false,
        "id": "M7F4pze2qW-p",
        "colab": {
          "base_uri": "https://localhost:8080/",
          "height": 440
        },
        "outputId": "1510174b-2406-464b-c7dd-020134b5e108"
      },
      "source": [
        "from sklearn import ensemble\n",
        "###############################################################################\n",
        "# Fit regression model\n",
        "params = {'n_estimators': 1000, 'max_depth': 20, 'min_samples_split': 17, 'max_features': 1.0,\n",
        "          'learning_rate': 0.01, 'loss': 'huber'}\n",
        "clf = ensemble.GradientBoostingRegressor(**params)\n",
        "\n",
        "clf.fit(X_train, y_train)\n",
        "mse = mean_squared_error(y_test, clf.predict(X_test))\n",
        "print(\"MSE: %.4f\" % mse)\n",
        "\n",
        "###############################################################################\n",
        "# Plot training deviance\n",
        "\n",
        "# compute test set deviance\n",
        "test_score = np.zeros((params['n_estimators'],), dtype=np.float64)\n",
        "\n",
        "for i, y_pred in enumerate(clf.staged_predict(X_test)):\n",
        "    test_score[i] = clf.loss_(y_test, y_pred)\n",
        "\n",
        "plt.figure(figsize=(12, 6))\n",
        "plt.subplot(1, 2, 1)\n",
        "plt.title('Deviance')\n",
        "plt.plot(np.arange(params['n_estimators']) + 1, clf.train_score_, 'b-',\n",
        "         label='Training Set Deviance')\n",
        "plt.plot(np.arange(params['n_estimators']) + 1, test_score, 'r-',\n",
        "         label='Test Set Deviance')\n",
        "plt.legend(loc='upper right')\n",
        "plt.xlabel('Boosting Iterations')\n",
        "plt.ylabel('Deviance')\n",
        "\n"
      ],
      "execution_count": null,
      "outputs": [
        {
          "output_type": "stream",
          "text": [
            "MSE: 4.6791\n"
          ],
          "name": "stdout"
        },
        {
          "output_type": "execute_result",
          "data": {
            "text/plain": [
              "Text(0, 0.5, 'Deviance')"
            ]
          },
          "metadata": {
            "tags": []
          },
          "execution_count": 23
        },
        {
          "output_type": "display_data",
          "data": {
            "image/png": "[encoded data removed]",
            "text/plain": [
              "<Figure size 864x432 with 1 Axes>"
            ]
          },
          "metadata": {
            "tags": [],
            "needs_background": "light"
          }
        }
      ]
    },
    {
      "cell_type": "code",
      "metadata": {
        "colab": {
          "base_uri": "https://localhost:8080/",
          "height": 440
        },
        "id": "UEzVbJl09NKn",
        "outputId": "bbeabbeb-8074-49ed-c65d-3bea587299ad"
      },
      "source": [
        "from sklearn import ensemble\r\n",
        "###############################################################################\r\n",
        "# Fit regression model\r\n",
        "params = {'n_estimators': 1000, 'max_depth': 20, 'min_samples_split': 17, 'max_features': 1.0,\r\n",
        "          'learning_rate': 0.01, 'loss': 'ls'}\r\n",
        "clf = ensemble.GradientBoostingRegressor(**params)\r\n",
        "\r\n",
        "clf.fit(X_train, y_train)\r\n",
        "mse = mean_squared_error(y_test, clf.predict(X_test))\r\n",
        "print(\"MSE: %.4f\" % mse)\r\n",
        "\r\n",
        "###############################################################################\r\n",
        "# Plot training deviance\r\n",
        "\r\n",
        "# compute test set deviance\r\n",
        "test_score = np.zeros((params['n_estimators'],), dtype=np.float64)\r\n",
        "\r\n",
        "for i, y_pred in enumerate(clf.staged_predict(X_test)):\r\n",
        "    test_score[i] = clf.loss_(y_test, y_pred)\r\n",
        "\r\n",
        "plt.figure(figsize=(12, 6))\r\n",
        "plt.subplot(1, 2, 1)\r\n",
        "plt.title('Deviance')\r\n",
        "plt.plot(np.arange(params['n_estimators']) + 1, clf.train_score_, 'b-',\r\n",
        "         label='Training Set Deviance')\r\n",
        "plt.plot(np.arange(params['n_estimators']) + 1, test_score, 'r-',\r\n",
        "         label='Test Set Deviance')\r\n",
        "plt.legend(loc='upper right')\r\n",
        "plt.xlabel('Boosting Iterations')\r\n",
        "plt.ylabel('Deviance')\r\n",
        "\r\n"
      ],
      "execution_count": null,
      "outputs": [
        {
          "output_type": "stream",
          "text": [
            "MSE: 3.9635\n"
          ],
          "name": "stdout"
        },
        {
          "output_type": "execute_result",
          "data": {
            "text/plain": [
              "Text(0, 0.5, 'Deviance')"
            ]
          },
          "metadata": {
            "tags": []
          },
          "execution_count": 29
        },
        {
          "output_type": "display_data",
          "data": {
            "image/png": "[encoded data removed]",
            "text/plain": [
              "<Figure size 864x432 with 1 Axes>"
            ]
          },
          "metadata": {
            "tags": [],
            "needs_background": "light"
          }
        }
      ]
    },
    {
      "cell_type": "code",
      "metadata": {
        "colab": {
          "base_uri": "https://localhost:8080/"
        },
        "id": "yIbpURnBBPp6",
        "outputId": "148635a5-41ec-4211-b464-7f78e8cbc597"
      },
      "source": [
        "clf.predict(X_test)"
      ],
      "execution_count": null,
      "outputs": [
        {
          "output_type": "execute_result",
          "data": {
            "text/plain": [
              "array([153.99973725, 130.00080633, 219.99699199, ...,  90.00253899,\n",
              "        90.00253899,  57.00395615])"
            ]
          },
          "metadata": {
            "tags": []
          },
          "execution_count": 30
        }
      ]
    },
    {
      "cell_type": "code",
      "metadata": {
        "colab": {
          "base_uri": "https://localhost:8080/"
        },
        "id": "wqZyLww6A9U3",
        "outputId": "a3a383a7-62f5-4a89-96f7-b5a264bf5dad"
      },
      "source": [
        "y_test\r\n"
      ],
      "execution_count": null,
      "outputs": [
        {
          "output_type": "execute_result",
          "data": {
            "text/plain": [
              "array([154., 130., 220., ...,  90.,  90.,  57.], dtype=float32)"
            ]
          },
          "metadata": {
            "tags": []
          },
          "execution_count": 31
        }
      ]
    },
    {
      "cell_type": "code",
      "metadata": {
        "colab": {
          "base_uri": "https://localhost:8080/",
          "height": 440
        },
        "id": "lx1t8z-T9Rrp",
        "outputId": "a6f0251b-5ca4-4711-91a7-8312bb77b07c"
      },
      "source": [
        "from sklearn import ensemble\r\n",
        "###############################################################################\r\n",
        "# Fit regression model\r\n",
        "params = {'n_estimators': 1000, 'max_depth': 20, 'min_samples_split': 17, 'max_features': 1.0,\r\n",
        "          'learning_rate': 0.01, 'loss': 'lad'}\r\n",
        "clf = ensemble.GradientBoostingRegressor(**params)\r\n",
        "\r\n",
        "clf.fit(X_train, y_train)\r\n",
        "mse = mean_squared_error(y_test, clf.predict(X_test))\r\n",
        "print(\"MSE: %.4f\" % mse)\r\n",
        "\r\n",
        "###############################################################################\r\n",
        "# Plot training deviance\r\n",
        "\r\n",
        "# compute test set deviance\r\n",
        "test_score = np.zeros((params['n_estimators'],), dtype=np.float64)\r\n",
        "\r\n",
        "for i, y_pred in enumerate(clf.staged_predict(X_test)):\r\n",
        "    test_score[i] = clf.loss_(y_test, y_pred)\r\n",
        "\r\n",
        "plt.figure(figsize=(12, 6))\r\n",
        "plt.subplot(1, 2, 1)\r\n",
        "plt.title('Deviance')\r\n",
        "plt.plot(np.arange(params['n_estimators']) + 1, clf.train_score_, 'b-',\r\n",
        "         label='Training Set Deviance')\r\n",
        "plt.plot(np.arange(params['n_estimators']) + 1, test_score, 'r-',\r\n",
        "         label='Test Set Deviance')\r\n",
        "plt.legend(loc='upper right')\r\n",
        "plt.xlabel('Boosting Iterations')\r\n",
        "plt.ylabel('Deviance')\r\n",
        "\r\n"
      ],
      "execution_count": null,
      "outputs": [
        {
          "output_type": "stream",
          "text": [
            "MSE: 82.4156\n"
          ],
          "name": "stdout"
        },
        {
          "output_type": "execute_result",
          "data": {
            "text/plain": [
              "Text(0, 0.5, 'Deviance')"
            ]
          },
          "metadata": {
            "tags": []
          },
          "execution_count": 25
        },
        {
          "output_type": "display_data",
          "data": {
            "image/png": "[encoded data removed]",
            "text/plain": [
              "<Figure size 864x432 with 1 Axes>"
            ]
          },
          "metadata": {
            "tags": [],
            "needs_background": "light"
          }
        }
      ]
    },
    {
      "cell_type": "code",
      "metadata": {
        "colab": {
          "base_uri": "https://localhost:8080/",
          "height": 440
        },
        "id": "kCcmqQUW9SAP",
        "outputId": "303312e4-ee45-4a53-bbc3-eaed4619cb80"
      },
      "source": [
        "from sklearn import ensemble\r\n",
        "###############################################################################\r\n",
        "# Fit regression model\r\n",
        "params = {'n_estimators': 1000, 'max_depth': 20, 'min_samples_split': 17, 'max_features': 1.0,\r\n",
        "          'learning_rate': 0.01, 'loss': 'quantile'}\r\n",
        "clf = ensemble.GradientBoostingRegressor(**params)\r\n",
        "\r\n",
        "clf.fit(X_train, y_train)\r\n",
        "mse = mean_squared_error(y_test, clf.predict(X_test))\r\n",
        "print(\"MSE: %.4f\" % mse)\r\n",
        "\r\n",
        "###############################################################################\r\n",
        "# Plot training deviance\r\n",
        "\r\n",
        "# compute test set deviance\r\n",
        "test_score = np.zeros((params['n_estimators'],), dtype=np.float64)\r\n",
        "\r\n",
        "for i, y_pred in enumerate(clf.staged_predict(X_test)):\r\n",
        "    test_score[i] = clf.loss_(y_test, y_pred)\r\n",
        "\r\n",
        "plt.figure(figsize=(12, 6))\r\n",
        "plt.subplot(1, 2, 1)\r\n",
        "plt.title('Deviance')\r\n",
        "plt.plot(np.arange(params['n_estimators']) + 1, clf.train_score_, 'b-',\r\n",
        "         label='Training Set Deviance')\r\n",
        "plt.plot(np.arange(params['n_estimators']) + 1, test_score, 'r-',\r\n",
        "         label='Test Set Deviance')\r\n",
        "plt.legend(loc='upper right')\r\n",
        "plt.xlabel('Boosting Iterations')\r\n",
        "plt.ylabel('Deviance')\r\n",
        "\r\n"
      ],
      "execution_count": null,
      "outputs": [
        {
          "output_type": "stream",
          "text": [
            "MSE: 394.2382\n"
          ],
          "name": "stdout"
        },
        {
          "output_type": "execute_result",
          "data": {
            "text/plain": [
              "Text(0, 0.5, 'Deviance')"
            ]
          },
          "metadata": {
            "tags": []
          },
          "execution_count": 26
        },
        {
          "output_type": "display_data",
          "data": {
            "image/png": "[encoded data removed]",
            "text/plain": [
              "<Figure size 864x432 with 1 Axes>"
            ]
          },
          "metadata": {
            "tags": [],
            "needs_background": "light"
          }
        }
      ]
    },
    {
      "cell_type": "code",
      "metadata": {
        "scrolled": true,
        "colab": {
          "base_uri": "https://localhost:8080/",
          "height": 404
        },
        "id": "BvvQcvx8qW-p",
        "outputId": "8a183f6f-8b20-4962-9ce2-3014fe8affeb"
      },
      "source": [
        "###############################################################################\n",
        "# Plot feature importance\n",
        "feature_importance = clf.feature_importances_\n",
        "# make importances relative to max importance\n",
        "feature_importance = 100.0 * (feature_importance / feature_importance.max())\n",
        "sorted_idx = np.argsort(feature_importance)\n",
        "pos = np.arange(sorted_idx.shape[0]) + .5\n",
        "plt.subplot(1, 2, 2)\n",
        "plt.barh(pos, feature_importance[sorted_idx], align='center')\n",
        "plt.yticks(pos, names)\n",
        "plt.xlabel('Relative Importance')\n",
        "plt.title('Variable Importance')\n",
        "plt.show()"
      ],
      "execution_count": null,
      "outputs": [
        {
          "output_type": "display_data",
          "data": {
            "image/png": "[encoded data removed]",
            "text/plain": [
              "<Figure size 432x432 with 1 Axes>"
            ]
          },
          "metadata": {
            "tags": [],
            "needs_background": "light"
          }
        }
      ]
    },
    {
      "cell_type": "code",
      "metadata": {
        "colab": {
          "base_uri": "https://localhost:8080/"
        },
        "id": "Qd1yjKCMqW-q",
        "outputId": "d1bf1524-ca3e-42ff-c593-889e109125a8"
      },
      "source": [
        "from sklearn.metrics import mean_squared_error\n",
        "mse = mean_squared_error(y_test, clf.predict(X_test))\n",
        "print(\"MSE: %.4f\" % mse)"
      ],
      "execution_count": null,
      "outputs": [
        {
          "output_type": "stream",
          "text": [
            "MSE: 394.2382\n"
          ],
          "name": "stdout"
        }
      ]
    },
    {
      "cell_type": "code",
      "metadata": {
        "id": "Wh5KaSWDxGVa"
      },
      "source": [
        ""
      ],
      "execution_count": null,
      "outputs": []
    }
  ]
}