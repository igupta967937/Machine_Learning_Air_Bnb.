{
  "nbformat": 4,
  "nbformat_minor": 0,
  "metadata": {
    "colab": {
      "name": "Welcome To Colaboratory",
      "provenance": [],
      "collapsed_sections": [],
      "toc_visible": true
    },
    "kernelspec": {
      "display_name": "Python 3",
      "name": "python3"
    }
  },
  "cells": [
    {
      "cell_type": "markdown",
      "metadata": {
        "id": "5fCEDCU_qrC0"
      },
      "source": [
        "<p><img alt=\"Colaboratory logo\" height=\"45px\" src=\"/img/colab_favicon.ico\" align=\"left\" hspace=\"10px\" vspace=\"0px\"></p>\n",
        "\n",
        "<h1>What is Colaboratory?</h1>\n",
        "\n",
        "Colaboratory, or \"Colab\" for short, allows you to write and execute Python in your browser, with \n",
        "- Zero configuration required\n",
        "- Free access to GPUs\n",
        "- Easy sharing\n",
        "\n",
        "Whether you're a **student**, a **data scientist** or an **AI researcher**, Colab can make your work easier. Watch [Introduction to Colab](https://www.youtube.com/watch?v=inN8seMm7UI) to learn more, or just get started below!"
      ]
    },
    {
      "cell_type": "markdown",
      "metadata": {
        "id": "GJBs_flRovLc"
      },
      "source": [
        "## **Getting started**\n",
        "\n",
        "The document you are reading is not a static web page, but an interactive environment called a **Colab notebook** that lets you write and execute code.\n",
        "\n",
        "For example, here is a **code cell** with a short Python script that computes a value, stores it in a variable, and prints the result:"
      ]
    },
    {
      "cell_type": "code",
      "metadata": {
        "colab": {
          "base_uri": "https://localhost:8080/",
          "height": 34
        },
        "id": "gJr_9dXGpJ05",
        "outputId": "9f556d03-ec67-4950-a485-cfdba9ddd14d"
      },
      "source": [
        "seconds_in_a_day = 24 * 60 * 60\n",
        "seconds_in_a_day"
      ],
      "execution_count": null,
      "outputs": [
        {
          "output_type": "execute_result",
          "data": {
            "text/plain": [
              "86400"
            ]
          },
          "metadata": {
            "tags": []
          },
          "execution_count": 0
        }
      ]
    },
    {
      "cell_type": "markdown",
      "metadata": {
        "id": "2fhs6GZ4qFMx"
      },
      "source": [
        "To execute the code in the above cell, select it with a click and then either press the play button to the left of the code, or use the keyboard shortcut \"Command/Ctrl+Enter\". To edit the code, just click the cell and start editing.\n",
        "\n",
        "Variables that you define in one cell can later be used in other cells:"
      ]
    },
    {
      "cell_type": "code",
      "metadata": {
        "colab": {
          "base_uri": "https://localhost:8080/",
          "height": 34
        },
        "id": "-gE-Ez1qtyIA",
        "outputId": "94cb2224-0edf-457b-90b5-0ac3488d8a97"
      },
      "source": [
        "seconds_in_a_week = 7 * seconds_in_a_day\n",
        "seconds_in_a_week"
      ],
      "execution_count": null,
      "outputs": [
        {
          "output_type": "execute_result",
          "data": {
            "text/plain": [
              "604800"
            ]
          },
          "metadata": {
            "tags": []
          },
          "execution_count": 0
        }
      ]
    },
    {
      "cell_type": "markdown",
      "metadata": {
        "id": "lSrWNr3MuFUS"
      },
      "source": [
        "Colab notebooks allow you to combine **executable code** and **rich text** in a single document, along with **images**, **HTML**, **LaTeX** and more. When you create your own Colab notebooks, they are stored in your Google Drive account. You can easily share your Colab notebooks with co-workers or friends, allowing them to comment on your notebooks or even edit them. To learn more, see [Overview of Colab](/notebooks/basic_features_overview.ipynb). To create a new Colab notebook you can use the File menu above, or use the following link: [create a new Colab notebook](http://colab.research.google.com#create=true).\n",
        "\n",
        "Colab notebooks are Jupyter notebooks that are hosted by Colab. To learn more about the Jupyter project, see [jupyter.org](https://www.jupyter.org)."
      ]
    },
    {
      "cell_type": "markdown",
      "metadata": {
        "id": "UdRyKR44dcNI"
      },
      "source": [
        "## Data science\n",
        "\n",
        "With Colab you can harness the full power of popular Python libraries to analyze and visualize data. The code cell below uses **numpy** to generate some random data, and uses **matplotlib** to visualize it. To edit the code, just click the cell and start editing."
      ]
    },
    {
      "cell_type": "code",
      "metadata": {
        "colab": {
          "base_uri": "https://localhost:8080/",
          "height": 281
        },
        "id": "C4HZx7Gndbrh",
        "outputId": "46abc637-6abd-41b2-9bba-80a7ae992e06"
      },
      "source": [
        "import numpy as np\n",
        "from matplotlib import pyplot as plt\n",
        "\n",
        "ys = 200 + np.random.randn(100)\n",
        "x = [x for x in range(len(ys))]\n",
        "\n",
        "plt.plot(x, ys, '-')\n",
        "plt.fill_between(x, ys, 195, where=(ys > 195), facecolor='g', alpha=0.6)\n",
        "\n",
        "plt.title(\"Sample Visualization\")\n",
        "plt.show()"
      ],
      "execution_count": null,
      "outputs": [
        {
          "output_type": "display_data",
          "data": {
            "image/png": "[encoded data removed]",
            "text/plain": [
              "<Figure size 432x288 with 1 Axes>"
            ]
          },
          "metadata": {
            "tags": []
          }
        }
      ]
    },
    {
      "cell_type": "markdown",
      "metadata": {
        "id": "4_kCnsPUqS6o"
      },
      "source": [
        "You can import your own data into Colab notebooks from your Google Drive account, including from spreadsheets, as well as from Github and many other sources. To learn more about importing data, and how Colab can be used for data science, see the links below under [Working with Data](#working-with-data)."
      ]
    },
    {
      "cell_type": "markdown",
      "metadata": {
        "id": "OwuxHmxllTwN"
      },
      "source": [
        "## Machine learning\n",
        "\n",
        "With Colab you can import an image dataset, train an image classifier on it, and evaluate the model, all in just [a few lines of code](https://colab.research.google.com/github/tensorflow/docs/blob/master/site/en/tutorials/quickstart/beginner.ipynb). Colab notebooks execute code on Google's cloud servers, meaning you can leverage the power of Google hardware, including [GPUs and TPUs](#using-accelerated-hardware), regardless of the power of your machine. All you need is a browser."
      ]
    },
    {
      "cell_type": "markdown",
      "metadata": {
        "id": "ufxBm1yRnruN"
      },
      "source": [
        "Colab is used extensively in the machine learning community with applications including:\n",
        "- Getting started with TensorFlow\n",
        "- Developing and training neural networks\n",
        "- Experimenting with TPUs\n",
        "- Disseminating AI research\n",
        "- Creating tutorials\n",
        "\n",
        "To see sample Colab notebooks that demonstrate machine learning applications, see the [machine learning examples](#machine-learning-examples) below."
      ]
    },
    {
      "cell_type": "markdown",
      "metadata": {
        "id": "-Rh3-Vt9Nev9"
      },
      "source": [
        "## More Resources\n",
        "\n",
        "### Working with Notebooks in Colab\n",
        "- [Overview of Colaboratory](/notebooks/basic_features_overview.ipynb)\n",
        "- [Guide to Markdown](/notebooks/markdown_guide.ipynb)\n",
        "- [Importing libraries and installing dependencies](/notebooks/snippets/importing_libraries.ipynb)\n",
        "- [Saving and loading notebooks in GitHub](https://colab.research.google.com/github/googlecolab/colabtools/blob/master/notebooks/colab-github-demo.ipynb)\n",
        "- [Interactive forms](/notebooks/forms.ipynb)\n",
        "- [Interactive widgets](/notebooks/widgets.ipynb)\n",
        "- <img src=\"/img/new.png\" height=\"20px\" align=\"left\" hspace=\"4px\" alt=\"New\"></img>\n",
        " [TensorFlow 2 in Colab](/notebooks/tensorflow_version.ipynb)\n",
        "\n",
        "<a name=\"working-with-data\"></a>\n",
        "### Working with Data\n",
        "- [Loading data: Drive, Sheets, and Google Cloud Storage](/notebooks/io.ipynb) \n",
        "- [Charts: visualizing data](/notebooks/charts.ipynb)\n",
        "- [Getting started with BigQuery](/notebooks/bigquery.ipynb)\n",
        "\n",
        "### Machine Learning Crash Course\n",
        "These are a few of the notebooks from Google's online Machine Learning course. See the [full course website](https://developers.google.com/machine-learning/crash-course/) for more.\n",
        "- [Intro to Pandas](/notebooks/mlcc/intro_to_pandas.ipynb)\n",
        "- [Tensorflow concepts](/notebooks/mlcc/tensorflow_programming_concepts.ipynb)\n",
        "- [First steps with TensorFlow](/notebooks/mlcc/first_steps_with_tensor_flow.ipynb)\n",
        "- [Intro to neural nets](/notebooks/mlcc/intro_to_neural_nets.ipynb)\n",
        "- [Intro to sparse data and embeddings](/notebooks/mlcc/intro_to_sparse_data_and_embeddings.ipynb)\n",
        "\n",
        "<a name=\"using-accelerated-hardware\"></a>\n",
        "### Using Accelerated Hardware\n",
        "- [TensorFlow with GPUs](/notebooks/gpu.ipynb)\n",
        "- [TensorFlow with TPUs](/notebooks/tpu.ipynb)"
      ]
    },
    {
      "cell_type": "markdown",
      "metadata": {
        "id": "P-H6Lw1vyNNd"
      },
      "source": [
        "<a name=\"machine-learning-examples\"></a>\n",
        "\n",
        "## Machine Learning Examples\n",
        "\n",
        "To see end-to-end examples of the interactive machine learning analyses that Colaboratory makes possible, check out these  tutorials using models from [TensorFlow Hub](https://tfhub.dev).\n",
        "\n",
        "A few featured examples:\n",
        "\n",
        "- [Retraining an Image Classifier](https://tensorflow.org/hub/tutorials/tf2_image_retraining): Build a Keras model on top of a pre-trained image classifier to distinguish flowers.\n",
        "- [Text Classification](https://tensorflow.org/hub/tutorials/tf2_text_classification): Classify IMDB movie reviews as either *positive* or *negative*.\n",
        "- [Style Transfer](https://tensorflow.org/hub/tutorials/tf2_arbitrary_image_stylization): Use deep learning to transfer style between images.\n",
        "- [Multilingual Universal Sentence Encoder Q&A](https://tensorflow.org/hub/tutorials/retrieval_with_tf_hub_universal_encoder_qa): Use a machine learning model to answer questions from the SQuAD dataset.\n",
        "- [Video Interpolation](https://tensorflow.org/hub/tutorials/tweening_conv3d): Predict what happened in a video between the first and the last frame.\n"
      ]
    },
    {
      "cell_type": "code",
      "metadata": {
        "id": "C3zahOM1Iqsp",
        "outputId": "70276a36-3387-4234-ee75-513fea595111",
        "colab": {
          "base_uri": "https://localhost:8080/"
        }
      },
      "source": [
        "# -*- coding: utf-8 -*-\r\n",
        "\r\n",
        "import numpy as np\r\n",
        "import pandas as pd\r\n",
        "import matplotlib.pyplot as plt\r\n",
        "import statsmodels.api as sm\r\n",
        "import gzip\r\n",
        "import os\r\n",
        "import re\r\n",
        "import numpy as np\r\n",
        "import seaborn as sns\r\n",
        "import matplotlib as mpl\r\n",
        "import shutil\r\n",
        "import matplotlib.font_manager as font_manager\r\n",
        "\r\n",
        "\"\"\"Download and move to content folder\"\"\"\r\n",
        "\r\n",
        "!wget http://data.insideairbnb.com/united-states/ny/new-york-city/2020-10-05/data/listings.csv.gz\r\n",
        "os.rename(\"listings.csv.gz\", \"/content/listings.csv.gz\")\r\n",
        "shutil.move(\"listings.csv.gz\", \"/content/listings.csv.gz\")\r\n",
        "os.replace(\"listings.csv.gz\", \"/content/listings.csv.gz\")\r\n",
        "\r\n",
        "\"\"\"Unzip the gz file\"\"\"\r\n",
        "\r\n",
        "with gzip.open('/content/listings.csv.gz', 'rb') as f_in:\r\n",
        "    with open('/content/listings.csv', 'wb') as f_out:\r\n",
        "        shutil.copyfileobj(f_in, f_out)\r\n",
        "\r\n",
        "\"\"\"Reading CSV file. Th etotal number of rows in listing is 44666\"\"\"\r\n",
        "\r\n",
        "pd.set_option('precision', 4)\r\n",
        "data = pd.read_csv('/content/listings.csv')\r\n",
        "\r\n",
        "data.shape\r\n"
      ],
      "execution_count": 1,
      "outputs": [
        {
          "output_type": "stream",
          "text": [
            "/usr/local/lib/python3.6/dist-packages/statsmodels/tools/_testing.py:19: FutureWarning: pandas.util.testing is deprecated. Use the functions in the public API at pandas.testing instead.\n",
            "  import pandas.util.testing as tm\n"
          ],
          "name": "stderr"
        },
        {
          "output_type": "stream",
          "text": [
            "--2020-12-19 22:36:09--  http://data.insideairbnb.com/united-states/ny/new-york-city/2020-10-05/data/listings.csv.gz\n",
            "Resolving data.insideairbnb.com (data.insideairbnb.com)... 52.217.99.187\n",
            "Connecting to data.insideairbnb.com (data.insideairbnb.com)|52.217.99.187|:80... connected.\n",
            "HTTP request sent, awaiting response... 200 OK\n",
            "Length: 27166880 (26M) [application/x-gzip]\n",
            "Saving to: ‘listings.csv.gz’\n",
            "\n",
            "listings.csv.gz     100%[===================>]  25.91M  38.8MB/s    in 0.7s    \n",
            "\n",
            "2020-12-19 22:36:10 (38.8 MB/s) - ‘listings.csv.gz’ saved [27166880/27166880]\n",
            "\n"
          ],
          "name": "stdout"
        },
        {
          "output_type": "execute_result",
          "data": {
            "text/plain": [
              "(44666, 74)"
            ]
          },
          "metadata": {
            "tags": []
          },
          "execution_count": 1
        }
      ]
    },
    {
      "cell_type": "code",
      "metadata": {
        "id": "ejoDFQnLIfsJ",
        "outputId": "fec001c0-b984-4c93-ae23-cf9c7bf153f7",
        "colab": {
          "base_uri": "https://localhost:8080/",
          "height": 770
        }
      },
      "source": [
        "data.dtypes\r\n",
        "\r\n",
        "\"\"\"Remove unwanted chracters from price. Convert price to float. Select properties with price more than 0\"\"\"\r\n",
        "\r\n",
        "data['price'] = data['price'].str.replace('$', '')\r\n",
        "data['price'] = data['price'].str.replace(',', '')\r\n",
        "data[\"price\"] = pd.to_numeric(data[\"price\"], downcast=\"float\")\r\n",
        "data = data[data.price > 0]\r\n",
        "\r\n",
        "data.isnull().sum().sort_values(ascending=False)\r\n",
        "\r\n",
        "data = data[data.beds > 0]\r\n",
        "data.loc[data['bedrooms'].isnull(), 'bedrooms'] = 1.0\r\n",
        "\r\n",
        "data.describe()\r\n",
        "\r\n",
        "data.head()\r\n",
        "\r\n",
        "data['neighbourhood_group_cleansed'].unique()\r\n",
        "\r\n",
        "labels = data.neighbourhood_group_cleansed.value_counts().index\r\n",
        "colors = ['#008fd5','#fc4f30','#e5ae38','#6d904f','#8b8b8b']\r\n",
        "\r\n",
        "shape = data.neighbourhood_group_cleansed.value_counts().values\r\n",
        "\r\n",
        "labels = data.room_type.value_counts().index\r\n",
        "\r\n",
        "colors = ['#008fd5','#fc4f30','#e5ae38','#6d904f']\r\n",
        "\r\n",
        "shape = data.room_type.value_counts().values\r\n",
        "\r\n",
        "plt.figure(figsize=(8,8))\r\n",
        "plt.bar(labels, shape, color=colors)\r\n",
        "plt.title('Room type')\r\n",
        "plt.show()\r\n",
        "\r\n",
        "coord = data.loc[:,['longitude','latitude']]\r\n",
        "coord.describe()\r\n"
      ],
      "execution_count": 2,
      "outputs": [
        {
          "output_type": "display_data",
          "data": {
            "image/png": "[encoded data removed]",
            "text/plain": [
              "<Figure size 576x576 with 1 Axes>"
            ]
          },
          "metadata": {
            "tags": [],
            "needs_background": "light"
          }
        },
        {
          "output_type": "execute_result",
          "data": {
            "text/html": [
              "<div>\n",
              "<style scoped>\n",
              "    .dataframe tbody tr th:only-of-type {\n",
              "        vertical-align: middle;\n",
              "    }\n",
              "\n",
              "    .dataframe tbody tr th {\n",
              "        vertical-align: top;\n",
              "    }\n",
              "\n",
              "    .dataframe thead th {\n",
              "        text-align: right;\n",
              "    }\n",
              "</style>\n",
              "<table border=\"1\" class=\"dataframe\">\n",
              "  <thead>\n",
              "    <tr style=\"text-align: right;\">\n",
              "      <th></th>\n",
              "      <th>longitude</th>\n",
              "      <th>latitude</th>\n",
              "    </tr>\n",
              "  </thead>\n",
              "  <tbody>\n",
              "    <tr>\n",
              "      <th>count</th>\n",
              "      <td>42553.0000</td>\n",
              "      <td>42553.0000</td>\n",
              "    </tr>\n",
              "    <tr>\n",
              "      <th>mean</th>\n",
              "      <td>-73.9509</td>\n",
              "      <td>40.7296</td>\n",
              "    </tr>\n",
              "    <tr>\n",
              "      <th>std</th>\n",
              "      <td>0.0473</td>\n",
              "      <td>0.0550</td>\n",
              "    </tr>\n",
              "    <tr>\n",
              "      <th>min</th>\n",
              "      <td>-74.2399</td>\n",
              "      <td>40.5087</td>\n",
              "    </tr>\n",
              "    <tr>\n",
              "      <th>25%</th>\n",
              "      <td>-73.9830</td>\n",
              "      <td>40.6897</td>\n",
              "    </tr>\n",
              "    <tr>\n",
              "      <th>50%</th>\n",
              "      <td>-73.9554</td>\n",
              "      <td>40.7244</td>\n",
              "    </tr>\n",
              "    <tr>\n",
              "      <th>75%</th>\n",
              "      <td>-73.9343</td>\n",
              "      <td>40.7634</td>\n",
              "    </tr>\n",
              "    <tr>\n",
              "      <th>max</th>\n",
              "      <td>-73.7119</td>\n",
              "      <td>40.9117</td>\n",
              "    </tr>\n",
              "  </tbody>\n",
              "</table>\n",
              "</div>"
            ],
            "text/plain": [
              "        longitude    latitude\n",
              "count  42553.0000  42553.0000\n",
              "mean     -73.9509     40.7296\n",
              "std        0.0473      0.0550\n",
              "min      -74.2399     40.5087\n",
              "25%      -73.9830     40.6897\n",
              "50%      -73.9554     40.7244\n",
              "75%      -73.9343     40.7634\n",
              "max      -73.7119     40.9117"
            ]
          },
          "metadata": {
            "tags": []
          },
          "execution_count": 2
        }
      ]
    },
    {
      "cell_type": "code",
      "metadata": {
        "id": "ZslrcDAOIfxN"
      },
      "source": [
        ""
      ],
      "execution_count": null,
      "outputs": []
    },
    {
      "cell_type": "code",
      "metadata": {
        "id": "VGlj9TNWIf0u"
      },
      "source": [
        ""
      ],
      "execution_count": null,
      "outputs": []
    },
    {
      "cell_type": "code",
      "metadata": {
        "id": "sXOrtWCMIf5D"
      },
      "source": [
        ""
      ],
      "execution_count": null,
      "outputs": []
    },
    {
      "cell_type": "code",
      "metadata": {
        "id": "yd67z4orIf8d"
      },
      "source": [
        ""
      ],
      "execution_count": null,
      "outputs": []
    },
    {
      "cell_type": "code",
      "metadata": {
        "id": "brwyR1UNIf_1"
      },
      "source": [
        ""
      ],
      "execution_count": null,
      "outputs": []
    },
    {
      "cell_type": "code",
      "metadata": {
        "id": "O0tgvqmsGO-P",
        "outputId": "c134c53f-5a11-4d63-8823-80ec2c407319",
        "colab": {
          "base_uri": "https://localhost:8080/",
          "height": 397
        }
      },
      "source": [
        "#Distributed Graph Of Factor availability_365\r\n",
        "%matplotlib inline\r\n",
        "\r\n",
        "fig, axs = plt.subplots(ncols=2, figsize=(16, 4))\r\n",
        "fig.suptitle('Distribution of availability (before and after removing part-time listings)')\r\n",
        "\r\n",
        "# Factor availability_365 Before cleaning\r\n",
        "x_axis=data['availability_365'].dropna()\r\n",
        "sns.distplot(pd.Series(x_axis, name='Availability (before cleaning)'), ax=axs[0])\r\n",
        "\r\n",
        "# Factor availability_365 Remove Values where availability less than 60 days or greater than 300 days\r\n",
        "data = data.query('60 <= availability_365 <= 300')\r\n",
        "print(\"Before cleaning, dataset has {} rows, {} columns.\".format(*data.shape))\r\n",
        "\r\n",
        "# Factor availability_365 After cleaning\r\n",
        "x_axis=data['availability_365'].dropna()\r\n",
        "sns.distplot(pd.Series(x_axis, name='Availability (after cleaning)'), ax=axs[1])\r\n",
        "data = data.drop('availability_365', axis = 1)\r\n",
        "print(\"After cleaning, dataset has {} rows, {} columns.\".format(*data.shape))"
      ],
      "execution_count": 3,
      "outputs": [
        {
          "output_type": "stream",
          "text": [
            "/usr/local/lib/python3.6/dist-packages/seaborn/distributions.py:2551: FutureWarning: `distplot` is a deprecated function and will be removed in a future version. Please adapt your code to use either `displot` (a figure-level function with similar flexibility) or `histplot` (an axes-level function for histograms).\n",
            "  warnings.warn(msg, FutureWarning)\n"
          ],
          "name": "stderr"
        },
        {
          "output_type": "stream",
          "text": [
            "Before cleaning, dataset has 9918 rows, 74 columns.\n",
            "After cleaning, dataset has 9918 rows, 73 columns.\n"
          ],
          "name": "stdout"
        },
        {
          "output_type": "stream",
          "text": [
            "/usr/local/lib/python3.6/dist-packages/seaborn/distributions.py:2551: FutureWarning: `distplot` is a deprecated function and will be removed in a future version. Please adapt your code to use either `displot` (a figure-level function with similar flexibility) or `histplot` (an axes-level function for histograms).\n",
            "  warnings.warn(msg, FutureWarning)\n"
          ],
          "name": "stderr"
        },
        {
          "output_type": "display_data",
          "data": {
            "image/png": "[encoded data removed]",
            "text/plain": [
              "<Figure size 1152x288 with 2 Axes>"
            ]
          },
          "metadata": {
            "tags": [],
            "needs_background": "light"
          }
        }
      ]
    },
    {
      "cell_type": "code",
      "metadata": {
        "id": "YT4Ewz8lHW7Q"
      },
      "source": [
        ""
      ],
      "execution_count": null,
      "outputs": []
    },
    {
      "cell_type": "code",
      "metadata": {
        "id": "BSD3GXDrGPCa",
        "outputId": "5b7e1159-aaa7-4a41-df87-811ee02981c3",
        "colab": {
          "base_uri": "https://localhost:8080/",
          "height": 416
        }
      },
      "source": [
        "#Distributed Graph Of Factor Accomodation\r\n",
        "%matplotlib inline\r\n",
        "\r\n",
        "fig, axs = plt.subplots(ncols=2, figsize=(16, 4))\r\n",
        "fig.suptitle('Distribution of max guests (before and after removing large listings > 10)', weight='bold', fontsize=12)\r\n",
        "\r\n",
        "# Factor Accomodation Before cleaning\r\n",
        "x_axis=data['accommodates'].dropna()\r\n",
        "sns.distplot(pd.Series(x_axis, name='Max guests (before cleaning)'), ax=axs[0])\r\n",
        "\r\n",
        "#  Factor Accomodation Remove where Accomodation > 1000\r\n",
        "condition = data[data['accommodates'] > 10]\r\n",
        "rows_to_drop = condition.index\r\n",
        "print(\"You dropped {} rows.\".format(condition.shape[0]))\r\n",
        "data = data.drop(rows_to_drop, axis=0)\r\n",
        "print(\"Dataset has {} rows, {} columns.\".format(*data.shape))\r\n",
        "\r\n",
        "# Factor Accomodation After cleaning\r\n",
        "x_axis=data['accommodates'].dropna()\r\n",
        "sns.distplot(pd.Series(x_axis, name='Max guests (after cleaning)'), ax=axs[1])"
      ],
      "execution_count": 4,
      "outputs": [
        {
          "output_type": "stream",
          "text": [
            "You dropped 89 rows.\n",
            "Dataset has 9829 rows, 73 columns.\n"
          ],
          "name": "stdout"
        },
        {
          "output_type": "stream",
          "text": [
            "/usr/local/lib/python3.6/dist-packages/seaborn/distributions.py:2551: FutureWarning: `distplot` is a deprecated function and will be removed in a future version. Please adapt your code to use either `displot` (a figure-level function with similar flexibility) or `histplot` (an axes-level function for histograms).\n",
            "  warnings.warn(msg, FutureWarning)\n",
            "/usr/local/lib/python3.6/dist-packages/seaborn/distributions.py:2551: FutureWarning: `distplot` is a deprecated function and will be removed in a future version. Please adapt your code to use either `displot` (a figure-level function with similar flexibility) or `histplot` (an axes-level function for histograms).\n",
            "  warnings.warn(msg, FutureWarning)\n"
          ],
          "name": "stderr"
        },
        {
          "output_type": "execute_result",
          "data": {
            "text/plain": [
              "<matplotlib.axes._subplots.AxesSubplot at 0x7f56a0fba550>"
            ]
          },
          "metadata": {
            "tags": []
          },
          "execution_count": 4
        },
        {
          "output_type": "display_data",
          "data": {
            "image/png": "[encoded data removed]",
            "text/plain": [
              "<Figure size 1152x288 with 2 Axes>"
            ]
          },
          "metadata": {
            "tags": [],
            "needs_background": "light"
          }
        }
      ]
    },
    {
      "cell_type": "code",
      "metadata": {
        "id": "5rP729bMGQem"
      },
      "source": [
        ""
      ],
      "execution_count": null,
      "outputs": []
    },
    {
      "cell_type": "code",
      "metadata": {
        "id": "hz6byKd6GQiS",
        "outputId": "8e556969-0147-4d3d-94f4-ad9cf68490d3",
        "colab": {
          "base_uri": "https://localhost:8080/",
          "height": 414
        }
      },
      "source": [
        "#Distributed Graph Of Factor Price\r\n",
        "%matplotlib inline\r\n",
        "\r\n",
        "fig, axs = plt.subplots(ncols=2, figsize=(16, 4))\r\n",
        "fig.suptitle('Distribution of price (before and after removing high-priced outliers)')\r\n",
        "\r\n",
        "# Factor Price Before cleaning\r\n",
        "x_axis=data['price'].dropna()\r\n",
        "sns.distplot(pd.Series(x_axis, name='Price (before cleaning)'), ax=axs[0])\r\n",
        "\r\n",
        "# Factor Price Remove where price > 1000\r\n",
        "condition = data[data['price'] > 1000]\r\n",
        "rows_to_drop = condition.index\r\n",
        "print(\"You dropped {} rows.\".format(condition.shape[0]))\r\n",
        "data = data.drop(rows_to_drop, axis=0)\r\n",
        "print(\"Dataset has {} rows, {} columns.\".format(*data.shape))\r\n",
        "\r\n",
        "# Factor Price After cleaning\r\n",
        "x_axis=data['price'].dropna()\r\n",
        "sns.distplot(pd.Series(x_axis, name='Price  (after cleaning)'), ax=axs[1])"
      ],
      "execution_count": 5,
      "outputs": [
        {
          "output_type": "stream",
          "text": [
            "You dropped 58 rows.\n",
            "Dataset has 9771 rows, 73 columns.\n"
          ],
          "name": "stdout"
        },
        {
          "output_type": "stream",
          "text": [
            "/usr/local/lib/python3.6/dist-packages/seaborn/distributions.py:2551: FutureWarning: `distplot` is a deprecated function and will be removed in a future version. Please adapt your code to use either `displot` (a figure-level function with similar flexibility) or `histplot` (an axes-level function for histograms).\n",
            "  warnings.warn(msg, FutureWarning)\n",
            "/usr/local/lib/python3.6/dist-packages/seaborn/distributions.py:2551: FutureWarning: `distplot` is a deprecated function and will be removed in a future version. Please adapt your code to use either `displot` (a figure-level function with similar flexibility) or `histplot` (an axes-level function for histograms).\n",
            "  warnings.warn(msg, FutureWarning)\n"
          ],
          "name": "stderr"
        },
        {
          "output_type": "execute_result",
          "data": {
            "text/plain": [
              "<matplotlib.axes._subplots.AxesSubplot at 0x7f56a23b9c88>"
            ]
          },
          "metadata": {
            "tags": []
          },
          "execution_count": 5
        },
        {
          "output_type": "display_data",
          "data": {
            "image/png": "[encoded data removed]",
            "text/plain": [
              "<Figure size 1152x288 with 2 Axes>"
            ]
          },
          "metadata": {
            "tags": [],
            "needs_background": "light"
          }
        }
      ]
    },
    {
      "cell_type": "code",
      "metadata": {
        "id": "iBr5NlO7GpF9"
      },
      "source": [
        ""
      ],
      "execution_count": null,
      "outputs": []
    },
    {
      "cell_type": "code",
      "metadata": {
        "id": "_X_Zfz28GpJV"
      },
      "source": [
        ""
      ],
      "execution_count": null,
      "outputs": []
    },
    {
      "cell_type": "code",
      "metadata": {
        "id": "peWVXltxGpMq"
      },
      "source": [
        ""
      ],
      "execution_count": null,
      "outputs": []
    },
    {
      "cell_type": "code",
      "metadata": {
        "id": "mZMlM-ixGpPt"
      },
      "source": [
        ""
      ],
      "execution_count": null,
      "outputs": []
    },
    {
      "cell_type": "code",
      "metadata": {
        "id": "-pWuRbPIGQlq"
      },
      "source": [
        ""
      ],
      "execution_count": null,
      "outputs": []
    },
    {
      "cell_type": "code",
      "metadata": {
        "id": "cYv15zRyGPFU"
      },
      "source": [
        ""
      ],
      "execution_count": null,
      "outputs": []
    },
    {
      "cell_type": "code",
      "metadata": {
        "id": "-P6wOUF4GPIo"
      },
      "source": [
        ""
      ],
      "execution_count": null,
      "outputs": []
    },
    {
      "cell_type": "code",
      "metadata": {
        "id": "YXjgf7RjGPL_"
      },
      "source": [
        ""
      ],
      "execution_count": null,
      "outputs": []
    },
    {
      "cell_type": "code",
      "metadata": {
        "id": "bthc_vEjGPPq"
      },
      "source": [
        ""
      ],
      "execution_count": null,
      "outputs": []
    },
    {
      "cell_type": "code",
      "metadata": {
        "id": "fIOYDdkWGPSV"
      },
      "source": [
        ""
      ],
      "execution_count": null,
      "outputs": []
    }
  ]
}